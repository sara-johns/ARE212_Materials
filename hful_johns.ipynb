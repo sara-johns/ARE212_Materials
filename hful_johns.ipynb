{
 "cells": [
  {
   "cell_type": "markdown",
   "metadata": {},
   "source": [
    "### HFUL estimator function"
   ]
  },
  {
   "cell_type": "code",
   "execution_count": 1,
   "metadata": {},
   "outputs": [],
   "source": [
    "import numpy as np\n",
    "import pandas as pd\n",
    "from numpy.linalg import inv\n",
    "\n",
    "def b_hful(y,X,Z):\n",
    "    \n",
    "    # Dimensions\n",
    "    n = y.shape[0]\n",
    "    k = X.shape[1]\n",
    "    \n",
    "    # Create P matrix\n",
    "    P = np.dot(Z@inv(Z.T@Z),Z.T)\n",
    "    \n",
    "    # Create Xbar matrix\n",
    "    Xbar = np.column_stack((y,X))\n",
    "    \n",
    "    # Get alpha: first create sum term, then matrix, then get eigenvals, then select smallest eigenval (alpha)\n",
    "    PXbarXbar = Xbar.T @ P @ Xbar\n",
    "    for i in range(n):\n",
    "        PXbarXbar -= P[i, i] * np.outer(Xbar[i, :], Xbar[i, :])\n",
    "    BigMat = inv(Xbar.T@Xbar)@(PXbarXbar)\n",
    "    \n",
    "    eigvals = np.linalg.eigvals(BigMat)\n",
    "    alpha = np.min(eigvals)\n",
    "    \n",
    "    # Get alpha hat\n",
    "    AlphaHat = ((alpha - (1-alpha))/n) / ((1 - (1-alpha))/n)\n",
    "    \n",
    "    # Create HFUL estimator: create sum terms, then estimator\n",
    "    PXX = X.T @ P @ X - AlphaHat * X.T @ X\n",
    "    PXy = X.T @ P @ y - AlphaHat * X.T @ y\n",
    "    for i in range(n):\n",
    "        PXX -= P[i, i] * np.outer(X[i, :], X[i, :])\n",
    "        PXy -= P[i, i] * X[i, :] * y[i]\n",
    "        \n",
    "    bHFUL = inv(PXX) @ (PXy)\n",
    "    return(bHFUL)"
   ]
  },
  {
   "cell_type": "markdown",
   "metadata": {},
   "source": [
    "### 2SLS estimator Function (and OLS)"
   ]
  },
  {
   "cell_type": "code",
   "execution_count": 2,
   "metadata": {},
   "outputs": [],
   "source": [
    "def b_iv(y,X,Z):\n",
    "    bIV = np.linalg.solve(Z.T@X,Z.T@y)\n",
    "    return(bIV)\n",
    "\n",
    "def b_ols(y,X,Z):\n",
    "    bOLS = np.linalg.solve(X.T@X,X.T@y)\n",
    "    return(bOLS)"
   ]
  },
  {
   "cell_type": "markdown",
   "metadata": {},
   "source": [
    "### Monte Carlo - Single instrument"
   ]
  },
  {
   "cell_type": "code",
   "execution_count": 3,
   "metadata": {},
   "outputs": [],
   "source": [
    "from scipy.stats import distributions as iid\n",
    "from scipy.stats import multivariate_normal\n",
    "\n",
    "np.random.seed(1995)\n",
    "iterations = 5000 # number of simulations\n",
    "N = 100 # number of obs - want to test finite samples\n",
    "beta = 1 # true beta value\n",
    "pi = 0.8 # how strong is the instrument?\n",
    "gamma = 0.5 # effect of unobserved variable on X\n",
    "estimates = np.empty((1,3))\n",
    "\n",
    "for i in range(iterations):\n",
    "    u = iid.norm().rvs(N)\n",
    "    v = iid.norm().rvs(N)\n",
    "    Z = iid.norm().rvs(N) # Z independent, for now one variable\n",
    "    w = iid.norm().rvs(N) # unobserved 'omitted variable'\n",
    "    \n",
    "    constant = np.ones(N) # to add to X and Z\n",
    "    \n",
    "    X = Z*pi + gamma*w + v # define X\n",
    "    Xmat = np.column_stack((constant,X)) # make matrix\n",
    "    y = X*beta + w + np.multiply(X, u) # define y; X is correlated with u & heteroskedasticity\n",
    "    Zmat = np.column_stack((constant,Z)) # make Z matrix\n",
    "\n",
    "    # calculate estimates\n",
    "    estimate = np.array([b_ols(y,Xmat,Zmat)[1], b_iv(y,Xmat,Zmat)[1], b_hful(y,Xmat,Zmat)[1]])\n",
    "    estimates = np.vstack((estimates, estimate))"
   ]
  },
  {
   "cell_type": "markdown",
   "metadata": {},
   "source": [
    "### Estimate Histograms"
   ]
  },
  {
   "cell_type": "code",
   "execution_count": 4,
   "metadata": {},
   "outputs": [
    {
     "data": {
      "image/png": "[encoded data removed]",
      "text/plain": [
       "<Figure size 432x288 with 1 Axes>"
      ]
     },
     "metadata": {
      "needs_background": "light"
     },
     "output_type": "display_data"
    }
   ],
   "source": [
    "import matplotlib.pyplot as plt\n",
    "plt.hist(estimates[:, 0], bins=int(np.ceil(np.sqrt(estimates.shape[0]))))\n",
    "plt.title(r\"Histogram of $\\beta_{OLS}$\")\n",
    "plt.axvline(estimates[:, 0].mean(), color='k', linestyle='dashed', linewidth=1)\n",
    "plt.show()"
   ]
  },
  {
   "cell_type": "code",
   "execution_count": 5,
   "metadata": {},
   "outputs": [
    {
     "data": {
      "image/png": "[encoded data removed]",
      "text/plain": [
       "<Figure size 432x288 with 1 Axes>"
      ]
     },
     "metadata": {
      "needs_background": "light"
     },
     "output_type": "display_data"
    }
   ],
   "source": [
    "plt.hist(estimates[:, 1], bins=int(np.ceil(np.sqrt(estimates.shape[0]))))\n",
    "plt.title(r\"Histogram of $\\beta_{2SLS}$\")\n",
    "plt.axvline(estimates[:, 1].mean(), color='k', linestyle='dashed', linewidth=1)\n",
    "plt.show()"
   ]
  },
  {
   "cell_type": "code",
   "execution_count": 6,
   "metadata": {},
   "outputs": [
    {
     "data": {
      "image/png": "[encoded data removed]",
      "text/plain": [
       "<Figure size 432x288 with 1 Axes>"
      ]
     },
     "metadata": {
      "needs_background": "light"
     },
     "output_type": "display_data"
    }
   ],
   "source": [
    "plt.hist(estimates[:, 2], bins=int(np.ceil(np.sqrt(estimates.shape[0]))))\n",
    "plt.title(r\"Histogram of $\\beta_{HFUL}$\")\n",
    "plt.axvline(estimates[:, 2].mean(), color='k', linestyle='dashed', linewidth=1)\n",
    "plt.show()"
   ]
  }
 ],
 "metadata": {
  "kernelspec": {
   "display_name": "Python 3",
   "language": "python",
   "name": "python3"
  },
  "language_info": {
   "codemirror_mode": {
    "name": "ipython",
    "version": 3
   },
   "file_extension": ".py",
   "mimetype": "text/x-python",
   "name": "python",
   "nbconvert_exporter": "python",
   "pygments_lexer": "ipython3",
   "version": "3.7.4"
  }
 },
 "nbformat": 4,
 "nbformat_minor": 4
}
