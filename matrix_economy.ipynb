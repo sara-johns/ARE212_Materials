{
 "cells": [
  {
   "cell_type": "markdown",
   "metadata": {},
   "source": [
    "## Matrix Economy"
   ]
  },
  {
   "cell_type": "markdown",
   "metadata": {},
   "source": [
    "### 1. Function of X,Y that does not exceed O(N)"
   ]
  },
  {
   "cell_type": "code",
   "execution_count": null,
   "metadata": {},
   "outputs": [],
   "source": [
    "import numpy as np\n",
    "import pandas as pd\n",
    "from numpy.linalg import inv\n",
    "\n",
    "# want only matrices of Nxk or Nxm (or smaller)\n",
    "\n",
    "def proj_fun(X,Y):\n",
    "    \n",
    "    first_half = X@inv(X.T@X) # N x k\n",
    "    second_half = X.T@Y # k x m so tiny\n",
    "    \n",
    "    return(first_half@second_half)"
   ]
  },
  {
   "cell_type": "markdown",
   "metadata": {},
   "source": [
    "### 2. Factory function of X to get $P_x$ "
   ]
  },
  {
   "cell_type": "code",
   "execution_count": null,
   "metadata": {},
   "outputs": [],
   "source": [
    "# Don't really know what this means"
   ]
  },
  {
   "cell_type": "markdown",
   "metadata": {},
   "source": [
    "### 3. Get diagonal of P but do not exceed O(N)"
   ]
  },
  {
   "cell_type": "code",
   "execution_count": null,
   "metadata": {},
   "outputs": [],
   "source": [
    "def diag_fun(X):\n",
    "    \n",
    "    N = X.shape[0]\n",
    "    first_half = X@inv(X.T@X) # N x k\n",
    "    \n",
    "    diag_vec = np.empty([N, 1])\n",
    "    \n",
    "    for i in range(N):\n",
    "        diag_vec[i] = first_half[i,:]@X.T[:,i] # diagonal elements are dot product of ith row and ith column\n",
    "        #I think this is O(N)? but not sure\n",
    "        \n",
    "    return(diag_vec)\n"
   ]
  }
 ],
 "metadata": {
  "kernelspec": {
   "display_name": "Python 3",
   "language": "python",
   "name": "python3"
  },
  "language_info": {
   "codemirror_mode": {
    "name": "ipython",
    "version": 3
   },
   "file_extension": ".py",
   "mimetype": "text/x-python",
   "name": "python",
   "nbconvert_exporter": "python",
   "pygments_lexer": "ipython3",
   "version": "3.7.4"
  }
 },
 "nbformat": 4,
 "nbformat_minor": 4
}
