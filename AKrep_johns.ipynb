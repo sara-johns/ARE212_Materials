{
 "cells": [
  {
   "cell_type": "markdown",
   "metadata": {},
   "source": [
    "### Functions"
   ]
  },
  {
   "cell_type": "code",
   "execution_count": 1,
   "metadata": {},
   "outputs": [],
   "source": [
    "import numpy as np\n",
    "import pandas as pd\n",
    "import scipy.linalg as la\n",
    "\n",
    "# HFUL function\n",
    "def b_hful(y,X,Z):\n",
    "    \n",
    "    # Dimensions\n",
    "    n = y.shape[0]\n",
    "    k = X.shape[1]\n",
    "    \n",
    "    # Create P matrix\n",
    "    P = np.dot(Z@la.inv(Z.T@Z),Z.T)\n",
    "    \n",
    "    # Create Xbar matrix\n",
    "    Xbar = np.column_stack((y,X))\n",
    "    \n",
    "    # Get alpha: first create sum term, then matrix, then get eigenvals, then select smallest eigenval (alpha)\n",
    "    PXbarXbar = Xbar.T @ np.diag(P) @ Xbar\n",
    "    BigMat = la.inv(Xbar.T@Xbar)@(PXbarXbar)\n",
    "    \n",
    "    eigvals = np.linalg.eigvals(BigMat)\n",
    "    alpha = np.min(eigvals)\n",
    "    \n",
    "    # Get alpha hat\n",
    "    AlphaHat = ((alpha - (1-alpha))/n) / ((1 - (1-alpha))/n)\n",
    "    \n",
    "    # Create HFUL estimator: create sum terms, then estimator\n",
    "    PXX = X.T @ P @ X - X.T @ np.diag(P) @ X - AlphaHat * X.T @ X\n",
    "    PXy = X.T @ P @ y - X.T @ np.diag(P) @ y - AlphaHat * X.T @ y\n",
    "        \n",
    "    bHFUL = la.inv(PXX) @ (PXy)\n",
    "    return(bHFUL)\n",
    "\n",
    "# TSLS function\n",
    "def b_iv(y,X,Z):\n",
    "    bIV = np.linalg.lstsq(Z.T@X,Z.T@y, rcond=None)\n",
    "    return(bIV)\n",
    "\n",
    "# TSLS-GMM function (thank you Shreya!)\n",
    "def b_iv_gmm(y,X,Z):\n",
    "    ZZ = Z.T@Z\n",
    "    ZZ_inv = np.linalg.pinv(ZZ)\n",
    "    XtZ = X.T@Z\n",
    "    ZtX = Z.T@X\n",
    "    ZY = Z.T@y\n",
    "    bGMM = np.linalg.pinv(XtZ@ZZ_inv@ZtX)@(XtZ@ZZ_inv@ZY)\n",
    "    return(bGMM)\n",
    "\n",
    "# OLS function\n",
    "def b_ols(y,X):\n",
    "    bOLS = np.linalg.solve(X.T@X,X.T@y)\n",
    "    return(bOLS)"
   ]
  },
  {
   "cell_type": "markdown",
   "metadata": {},
   "source": [
    "### Replicate Table V in AK1991"
   ]
  },
  {
   "cell_type": "code",
   "execution_count": 2,
   "metadata": {},
   "outputs": [],
   "source": [
    "# Import data\n",
    "ak_df = pd.read_stata('angrist-krueger91.dta')\n",
    "\n",
    "# Create variables needed for regressions\n",
    "ak_df['agesquared'] = ak_df.apply(lambda row: row.ageq**2, axis = 1) # age squared\n",
    "\n",
    "region_dummy = pd.get_dummies(ak_df['region'], drop_first = True) # region dummy, drop region 0\n",
    "yob_dummy = pd.get_dummies(ak_df['yob'], drop_first = True) # yob dummy, drop 1930\n",
    "qob_dummy = pd.get_dummies(ak_df['qob'], drop_first = True) # qob dummy, drop 1\n",
    "ak_df['qob_yob'] = ak_df.qob.map(str) + \"_\" + ak_df.yob.map(str) # concat qob and yob to create dummies\n",
    "qob_yob_dummy = pd.get_dummies(ak_df['qob_yob']) # qob-yob interaction dummy"
   ]
  },
  {
   "cell_type": "code",
   "execution_count": 3,
   "metadata": {},
   "outputs": [],
   "source": [
    "# Create y, X, Z matrices - will do for columns 5&6 and 7&8 (difference is the age vars)\n",
    "y = ak_df['logwage']\n",
    "\n",
    "# drop qob 1 dummies, year 1930\n",
    "qob_yob_dummy = qob_yob_dummy[qob_yob_dummy.columns.drop(list(qob_yob_dummy.filter(regex='_1930')))]\n",
    "qob_yob_dummy = qob_yob_dummy[qob_yob_dummy.columns.drop(list(qob_yob_dummy.filter(regex='1_')))]\n",
    "\n",
    "constant = pd.DataFrame(np.ones(ak_df.shape[0]))\n",
    "\n",
    "# columns 5 & 6: intercept, education (qob-yob dummies), married, black, smsa, yob dummy, region dummy\n",
    "X_col56 = np.array(pd.concat([constant, ak_df[['edu', 'married', 'black', 'smsa']], \n",
    "                     yob_dummy, region_dummy], axis = 1))\n",
    "Z_col56 = np.array(pd.concat([constant, qob_yob_dummy, qob_dummy, ak_df[['married', 'black', 'smsa']], \n",
    "                     yob_dummy, region_dummy], axis = 1))\n",
    "\n",
    "# columns 7 & 8: intercept, education (qob-yob dummies), married, \n",
    "    # black, smsa, age, age squared, yob dummy, region dummy\n",
    "X_col78 = np.array(pd.concat([constant, ak_df[['edu', 'married', 'black', 'smsa', 'ageq', 'agesquared']], \n",
    "                     yob_dummy, region_dummy], axis = 1))\n",
    "Z_col78 = np.array(pd.concat([constant, qob_yob_dummy, qob_dummy, ak_df[['married', 'black', 'smsa', 'ageq', 'agesquared']], \n",
    "                     yob_dummy, region_dummy], axis = 1))"
   ]
  },
  {
   "cell_type": "code",
   "execution_count": 4,
   "metadata": {},
   "outputs": [
    {
     "name": "stdout",
     "output_type": "stream",
     "text": [
      "0.08055179488422937\n",
      "0.06324573304217924\n",
      "0.05995357591746142\n",
      "0.06323780159470752\n"
     ]
    }
   ],
   "source": [
    "# 2sls & ols for 5/6 - used GMM 2sls which replicated the estimates from the paper\n",
    "b_tsls56 = b_iv_gmm(y, X_col56, Z_col56)\n",
    "print(b_tsls56[1])\n",
    "\n",
    "b_ols56 = b_ols(y, X_col56)\n",
    "print(b_ols56[1])\n",
    "\n",
    "# 2sls & ols for 7/8\n",
    "b_tsls78 = b_iv_gmm(y, X_col78, Z_col78)\n",
    "print(b_tsls78[1])\n",
    "\n",
    "b_ols78 = b_ols(y, X_col78)\n",
    "print(b_ols78[1])"
   ]
  },
  {
   "cell_type": "code",
   "execution_count": null,
   "metadata": {},
   "outputs": [],
   "source": [
    "# hful\n",
    "#b_hful56 = b_hful(y, X_col56, Z_col56)\n",
    "#print(b_hful56[1])\n",
    "#b_hful78 = b_hful(y, X_col78, Z_col78)\n",
    "#print(b_hful78[1])"
   ]
  }
 ],
 "metadata": {
  "kernelspec": {
   "display_name": "Python 3",
   "language": "python",
   "name": "python3"
  },
  "language_info": {
   "codemirror_mode": {
    "name": "ipython",
    "version": 3
   },
   "file_extension": ".py",
   "mimetype": "text/x-python",
   "name": "python",
   "nbconvert_exporter": "python",
   "pygments_lexer": "ipython3",
   "version": "3.7.4"
  }
 },
 "nbformat": 4,
 "nbformat_minor": 4
}
