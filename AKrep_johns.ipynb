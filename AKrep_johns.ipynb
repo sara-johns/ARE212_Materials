{
 "cells": [
  {
   "cell_type": "markdown",
   "metadata": {},
   "source": [
    "### Replicate Table V in AK 1991"
   ]
  },
  {
   "cell_type": "code",
   "execution_count": null,
   "metadata": {},
   "outputs": [],
   "source": [
    "import numpy as np\n",
    "import pandas as pd\n",
    "\n",
    "# Import data\n",
    "ak_df = pd.read_stata('angrist-krueger91.dta')\n",
    "\n",
    "# Create variables needed for regressions\n",
    "ak_df['agesquared'] = ak_df.apply(lambda row: row.ageq**2, axis = 1)\n",
    "region_dummy = pd.get_dummies(ak_df['region'])\n",
    "yob_dummy = pd.get_dummies(ak_df['yob'])\n",
    "qob_dummy = pd.get_dummies(ak_df['qob'])\n",
    "\n",
    "# Add dummies to original df\n",
    "ak_df = pd.concat([ak_df, qob_dummy, yob_dummy, region_dummy], axis = 1)\n",
    "\n",
    "ak_df.head()\n",
    "\n",
    "# Create y, X, Z matrices\n"
   ]
  }
 ],
 "metadata": {
  "kernelspec": {
   "display_name": "Python 3",
   "language": "python",
   "name": "python3"
  },
  "language_info": {
   "codemirror_mode": {
    "name": "ipython",
    "version": 3
   },
   "file_extension": ".py",
   "mimetype": "text/x-python",
   "name": "python",
   "nbconvert_exporter": "python",
   "pygments_lexer": "ipython3",
   "version": "3.7.4"
  }
 },
 "nbformat": 4,
 "nbformat_minor": 4
}
