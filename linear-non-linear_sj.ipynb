{
 "cells": [
  {
   "cell_type": "markdown",
   "metadata": {},
   "source": [
    "## Linear Non-Linear Functions\n",
    "\n"
   ]
  },
  {
   "cell_type": "code",
   "execution_count": null,
   "metadata": {},
   "outputs": [],
   "source": [
    "import numpy as np\n",
    "from numpy.linalg import norm\n",
    "from scipy.stats import distributions as iid\n",
    "import pandas as pd\n",
    "\n",
    "f0 = lambda x: x*np.sin(x) # True function\n",
    "\n",
    "# Factory function for phi_k(x)\n",
    "phi_factory = lambda c,s=1: lambda x: np.exp(-(1/(2*s))*norm(x-c)**2)  # RBF\n",
    "# phi_factory = lambda c,s=1: lambda x: (x**c)/s  # Polynomial"
   ]
  },
  {
   "cell_type": "code",
   "execution_count": null,
   "metadata": {},
   "outputs": [],
   "source": [
    "def dgp(N,sigma_u):\n",
    "    X = iid.uniform(loc=0,scale=2*np.pi).rvs(N).tolist()\n",
    "    X.sort()\n",
    "\n",
    "    u = iid.norm(scale=sigma_u)\n",
    "\n",
    "    y = pd.Series([f0(x) + u.rvs(1)[0] for x in X])\n",
    "\n",
    "    return X,y\n",
    "\n",
    "N = 20\n",
    "X,y = dgp(N,0.1)"
   ]
  },
  {
   "cell_type": "markdown",
   "metadata": {},
   "source": [
    "Consider scatterplot:\n",
    "\n"
   ]
  },
  {
   "cell_type": "code",
   "execution_count": null,
   "metadata": {
    "scrolled": true
   },
   "outputs": [],
   "source": [
    "import matplotlib.pyplot as plt\n",
    "\n",
    "fig, ax = plt.subplots()\n",
    "\n",
    "ax.scatter(X,y)\n",
    "\n",
    "Domain = np.linspace(0,2*np.pi,N).tolist()\n",
    "\n",
    "ax.plot(Domain,[f0(x) for x in Domain])"
   ]
  },
  {
   "cell_type": "markdown",
   "metadata": {},
   "source": [
    "Now regression:\n",
    "\n"
   ]
  },
  {
   "cell_type": "code",
   "execution_count": null,
   "metadata": {},
   "outputs": [],
   "source": [
    "from cfe.df_utils import ols\n",
    "\n",
    "## Or\n",
    "K=5\n",
    "phis = {k:phi_factory(k) for k in range(K)}\n",
    "\n",
    "phis[0] = lambda x: 1 # Constant function\n",
    "\n",
    "TX = {}\n",
    "for k in range(K):\n",
    "    TX[k] = [phis[k](x) for x in X]\n",
    "\n",
    "TX = pd.DataFrame(TX)\n",
    "\n",
    "try: # If y isn't a DataFrame make it one\n",
    "    y = pd.DataFrame({'y':y})\n",
    "except ValueError: # Guess it is!\n",
    "    pass\n",
    "\n",
    "alpha,se = ols(TX, y) \n",
    "\n",
    "# Check fit:\n",
    "e = (y - TX@alpha.T)\n",
    "e.var()"
   ]
  },
  {
   "cell_type": "markdown",
   "metadata": {},
   "source": [
    "Note that expected *within* sample error variance is effectively zero!\n",
    "\n",
    "Now construct $\\hat{f}$ and plot predictions:\n",
    "\n"
   ]
  },
  {
   "cell_type": "code",
   "execution_count": null,
   "metadata": {},
   "outputs": [],
   "source": [
    "alpha"
   ]
  },
  {
   "cell_type": "code",
   "execution_count": null,
   "metadata": {},
   "outputs": [],
   "source": [
    "def fhat(x,alpha):\n",
    "\n",
    "    yhat = 0\n",
    "    for k,phik in phis.items():\n",
    "        yhat += alpha[k]*phik(x)\n",
    "\n",
    "    return yhat\n",
    "\n",
    "Domain = np.linspace(0,2*np.pi,100).tolist()\n",
    "\n",
    "_ = ax.plot(Domain,[fhat(x,alpha) for x in Domain])\n",
    "fig"
   ]
  },
  {
   "cell_type": "markdown",
   "metadata": {},
   "source": [
    "Compute the MSE:\n",
    "\n"
   ]
  },
  {
   "cell_type": "code",
   "execution_count": null,
   "metadata": {},
   "outputs": [],
   "source": [
    "dx = Domain[1]-Domain[0]\n",
    "MSE = np.sum([((f0(x) - fhat(x,alpha))**2)*dx for x in Domain])\n",
    "\n",
    "MSE"
   ]
  },
  {
   "cell_type": "code",
   "execution_count": null,
   "metadata": {},
   "outputs": [],
   "source": [
    "in_MSE = np.sum([((f0(x) - fhat(x,alpha))**2) for x in X])/N\n",
    "\n",
    "in_MSE"
   ]
  },
  {
   "cell_type": "code",
   "execution_count": null,
   "metadata": {},
   "outputs": [],
   "source": [
    "# EMSE: sum of in and out of sample MSE??\n",
    "EMSE = in_MSE + MSE\n",
    "\n",
    "EMSE"
   ]
  },
  {
   "cell_type": "markdown",
   "metadata": {},
   "source": [
    "### Questions\n",
    "\n"
   ]
  },
  {
   "cell_type": "markdown",
   "metadata": {},
   "source": [
    "1.  What&rsquo;s the expected squared out of sample prediction error of this\n",
    "    estimator (not just an estimate), using the same size sample as above?\n",
    "    1.  In this case what&rsquo;s the expected squared bias?  The variance?\n",
    "\n"
   ]
  }
 ],
 "metadata": {
  "kernelspec": {
   "display_name": "Python 3",
   "language": "python",
   "name": "python3"
  },
  "language_info": {
   "codemirror_mode": {
    "name": "ipython",
    "version": 3
   },
   "file_extension": ".py",
   "mimetype": "text/x-python",
   "name": "python",
   "nbconvert_exporter": "python",
   "pygments_lexer": "ipython3",
   "version": "3.7.4"
  },
  "org": null
 },
 "nbformat": 4,
 "nbformat_minor": 1
}
