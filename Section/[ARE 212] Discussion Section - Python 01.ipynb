{
 "cells": [
  {
   "cell_type": "markdown",
   "metadata": {},
   "source": [
    "# [ARE 212] Discussion Section - Python 01\n",
    "\n"
   ]
  },
  {
   "cell_type": "markdown",
   "metadata": {},
   "source": [
    "## Introduction to `Python` Discussion Sections"
   ]
  },
  {
   "cell_type": "markdown",
   "metadata": {},
   "source": [
    "### Learning goals for this series of discussion sections"
   ]
  },
  {
   "cell_type": "markdown",
   "metadata": {},
   "source": [
    "1.  Build off of skills we developed with `R` to provide a basic familiarity of coding in `Python` (and deepen your overall understanding of coding for econometrics in the process)\n",
    "2.  Move from (potentially) no previous `Python` experience to being able to follow [lecture applications](https://datahub.berkeley.edu/user/benjaminkrause/tree/ARE212_Materials)\n",
    " and engage in [bcourses discussions](https://bcourses.berkeley.edu/courses/1487913/discussion_topics) via `Python`\n",
    " \n",
    "(Note: I'm starting the numbering over so to keep things distinct from our `R` notes) "
   ]
  },
  {
   "cell_type": "markdown",
   "metadata": {},
   "source": [
    "### Source Material"
   ]
  },
  {
   "cell_type": "markdown",
   "metadata": {},
   "source": [
    "As before, these notes are the fruits of arduous labor of others.  My contributions are minimual -- and know that this will be much rougher than our journey thus far.  So please expect to find some code (and even explanation) errors (and assume them all to be mine). If you find any mistakes or you are knocking your head against a screen drentched in the red letters of <font color='red'>Error</font>/desperation/existential dread/rage, please [let me know](mailto:benjaminkrause@berkeley.edu) sooner rather than later.\n",
    "    \n",
    "The primary sources of these notes (and honestly the contributors of the real work here) are:\n",
    "- Ethan and in particular his EEP 153 Notes\n",
    "- [Computational and Inferential Thinking: The Foundations of Data Science](https://www.inferentialthinking.com/chapters/intro.html) which is the textbook for UC Berkeley's [Data 8: The Foundations of Data Science](http://data8.org/) course.  All of the notes, readings, labs, and assignments are fully available online as well.  For instance, here is [Spring 2020](http://data8.org/sp20/).\n",
    "- [Python Data Science Handbook](https://jakevdp.github.io/PythonDataScienceHandbook/)"
   ]
  },
  {
   "cell_type": "markdown",
   "metadata": {},
   "source": [
    "### [Wherefore](https://www.merriam-webster.com/words-at-play/wherefore-meaning-shakespeare) `R`'t thou?"
   ]
  },
  {
   "cell_type": "markdown",
   "metadata": {},
   "source": [
    "I'm going to attempt to both get us up to speed on `Python` (and I do very much include myself in \"us\") while also ensuring that you're coming out of this class with a solid coding foundation in at least one language.  \n",
    "\n",
    "For this reason, I'll also circulate an updated version of each of the remaining discussion sections over the next month so to ensure that you have a full set of notes for coding econometrics in `R` from this course.  \n",
    "\n",
    "I do not expect that we'll be devoting anymore time this semester to `R` in discussion section itself, but please do know that I'll be happy to field any questions via email/zoom/passenger pigeon/smoke signals throughout the sememster as well as to [infinity and beyond](https://www.youtube.com/watch?v=2VSYmGSJtCA).  So please do not feel shy about reaching out for anything `R`, `Python`, Econometrics, ARE, or life related (I'm not always the fastest in responses . . . and frankly I know relatively little about any of these topics, but I'm always happy to muddle through together).  \n",
    "\n",
    "In addition, if you haven't already discovered these, my very much more illustrious predecessors have their own sets of `R` notes for this class freely available on their respective websites, so know that you can always find more from [Ed Rubin](http://edrub.in/ARE212/Spring2017/notes.html) now at University of Oregon Econ and [Fiona Burlig](https://www.fionaburlig.com/teaching/are212) now at University of Chicago Harris School of Public Policy.\n",
    "\n",
    "Finally, as we're parting with `R` (at least during discussion section), to lessen your sweet sorrow, let me again recommend [R for Data Science](https://r4ds.had.co.nz/) as it is genuinely my favorite place to practice `R`.   "
   ]
  },
  {
   "cell_type": "markdown",
   "metadata": {},
   "source": [
    "### Class expectations for the rest of the semester "
   ]
  },
  {
   "cell_type": "markdown",
   "metadata": {},
   "source": [
    "- [Syllabus](https://github.com/ligonteaching/ARE212_Materials/blob/master/syllabus.pdf)\n",
    "- Keep up with [Ethan's materials](https://github.com/ligonteaching/ARE212_Materials) hosted on [github.com](https://github.com/)\n",
    "- [Discussion instead of Problem Sets](https://bcourses.berkeley.edu/courses/1487913/discussion_topics/5731445) (20% of your overall grade)\n",
    "    - Interactions take place in the bcourses [Discussions](https://bcourses.berkeley.edu/courses/1487913/discussion_topics) tab\n",
    "    - You are responsible to:\n",
    "        - Respond to two or more of my discussion prompts.  Posting a response will \"unlock\" the discussion for that item for you, so you'll be able to see the rest of the discussion thread.   Please post these responses by the end of Wednesday.\n",
    "        - Comment on at least three of the posts responding to the discussion prompt (i.e., comment on others comments).    A livelier discussion will result if you don't wait until the last minute (end of Sunday) to post these comments, so that there's some opportunity for dialog.\n",
    "    - \". . . we just want to see that you're contributing constructively to the conversation.\"\n",
    "- Final (30% of your overall grade)"
   ]
  },
  {
   "cell_type": "markdown",
   "metadata": {},
   "source": [
    "### GSI expectations for the rest of the semester"
   ]
  },
  {
   "cell_type": "markdown",
   "metadata": {},
   "source": [
    "- Office Hours are going to continue to be by appointment, and primarily via email.  (I know I owe a couple of you responses.  I hope to have you those by the end of today).\n",
    "- Grades for midterm and the third problem set will be back by next week.\n",
    "- Discussion Section\n",
    "    - Today: establish enough of a shared foundation and vocabulary in `Python` so that\n",
    "    - Starting Next Week (and for the rest of the semester): We devote this time together to walking through each of the jupyter notebooks Ethan has provided and making sure we understand each line of code.  (Clearly we'll be playing catch-up)."
   ]
  },
  {
   "cell_type": "markdown",
   "metadata": {},
   "source": [
    "## Introduction to `Python`"
   ]
  },
  {
   "cell_type": "markdown",
   "metadata": {},
   "source": [
    "### Learning Goals Today"
   ]
  },
  {
   "cell_type": "markdown",
   "metadata": {},
   "source": [
    "1.  Open a `jupyter` notebook on `datahub.berkeley.edu`.\n",
    "2.  Brief orientation to using `jupyter` notebooks\n",
    "2.  Reference `R` to introduce simple `python` expressions.\n",
    "3.  Introduce the various *types* of objects in `python` \n",
    "4.  Work with `pandas.DataFrames`."
   ]
  },
  {
   "cell_type": "markdown",
   "metadata": {},
   "source": [
    "### 1. Open a `jupyter` notebook on `datahub.berkeley.edu`"
   ]
  },
  {
   "cell_type": "markdown",
   "metadata": {},
   "source": [
    "1. Open the website [URL to Interact](http://datahub.berkeley.edu/user-redirect/interact?account=ligon&repo=EEP153_Exercises&branch=master&path=week1.ipynb)\n",
    "2. For `1. Choose your desired hub:` select `datahub.berkeley.edu`\n",
    "3. Either navigate to [my github](https://github.com/bk-econ/share) page and select the `URL` of the correct section or simply copy it from right here: https://github.com/bk-econ/share/blob/master/%5BARE%20212%5D%20Discussion%20Section%20-%20Python%2001.ipynb\n",
    "4. Paste the `URL` you copied in the previous step into `2. Paste the GitHub URL for your file or folder in the box below.`\n",
    "5. Click `Convert to interact link!`\n",
    "6. Copy the new `URL` generated in field `4. Your interact link URL will appear in the box below.`\n",
    "7. Paste the new `URL` in any web browser and get to it!\n",
    "\n",
    "(You can of course download [Python](https://www.python.org/downloads/) directly to your computer -- though you'd probably better off if you instead downloaded [Anaconda](https://www.anaconda.com/distribution/) which bundles up `Python` and key data science libraries with the Jupyter notebook environment.  However, for this class, we are going to stick exclusively to coding in [datahub](https://datahub.berkeley.edu/).)"
   ]
  },
  {
   "cell_type": "markdown",
   "metadata": {},
   "source": [
    "### 2. Brief orientation to using `jupyter` notebooks"
   ]
  },
  {
   "cell_type": "markdown",
   "metadata": {},
   "source": [
    "### Text cells\n",
    "In a notebook, each rectangle containing text or code is called a *cell*.\n",
    "\n",
    "Text cells (like this one) can be edited by double-clicking on them. They're written in a simple format called [Markdown](http://daringfireball.net/projects/markdown/syntax) to add formatting and section headings.  You don't need to learn Markdown, but you might want to.\n",
    "\n",
    "After you edit a text cell, click the \"run cell\" button at the top that looks like ▶| or hold down `shift` + `return` to confirm any changes."
   ]
  },
  {
   "cell_type": "markdown",
   "metadata": {},
   "source": [
    "### Code cells\n",
    "Other cells contain code in the Python 3 language. Running a code cell will execute all of the code it contains.\n",
    "\n",
    "To run the code in a code cell, first click on that cell to activate it.  It'll be highlighted with a little green or blue rectangle.  Next, either press ▶| or hold down `shift` + `return`."
   ]
  },
  {
   "cell_type": "code",
   "execution_count": 45,
   "metadata": {},
   "outputs": [],
   "source": [
    "# This is an actual code cell (sorry to put the \"Code Cells\" explabnation above in a text cell)"
   ]
  },
  {
   "cell_type": "markdown",
   "metadata": {},
   "source": [
    "### Writing Jupyter notebooks\n",
    "You can use Jupyter notebooks for your own projects or documents.  When you make your own notebook, you'll need to create your own cells for text and code.\n",
    "\n",
    "To add a cell, click the + button in the menu bar.  It'll start out as a text cell.  You can change it to a code cell by clicking inside it so it's highlighted, clicking the drop-down box next to the restart (⟳) button in the menu bar, and choosing \"Code\".  \n",
    "\n",
    "Similarly \"m\" is a quick key to convert to Text Cell and \"y\" is a quick key to convert to Code Cell . . . and \"d,d\" (that is, hitting \"d\" twice in rapid succession) deletes a selected cell.\n",
    "\n",
    "While we're on the subject, to help build your dexterity with `Python`, I really recommend starting to familiarize yourself with some of the shortcut keys quickly.  Here's a nice summary of [Jupyter Python Notebook Keyboard Shortcuts and Text Snippets for Beginners](http://maxmelnick.com/2016/04/19/python-beginner-tips-and-tricks.html).  You can get more details from the `Help > Keyboard Shortcuts` in the menu above.  "
   ]
  },
  {
   "cell_type": "markdown",
   "metadata": {},
   "source": [
    "### The Kernel\n",
    "The kernel is a program that executes the code inside your notebook and outputs the results. In the top right of your window, you can see a circle that indicates the status of your kernel. If the circle is empty (⚪), the kernel is idle and ready to execute code. If the circle is filled in (⚫), the kernel is busy running some code. \n",
    "\n",
    "Next to every code cell, you'll see some text that says `In [...]`. Before you run the cell, you'll see `In [ ]`. When the cell is running, you'll see `In [*]`. If you see an asterisk (\\*) next to a cell that doesn't go away, it's likely that the code inside the cell is taking too long to run, and it might be a good time to interrupt the kernel (discussed below). When a cell is finished running, you'll see a number inside the brackets, like so: `In [1]`. The number corresponds to the order in which you run the cells; so, the first cell you run will show a 1 when it's finished running, the second will show a 2, and so on. \n",
    "\n",
    "You may run into problems where your kernel is stuck for an excessive amount of time, your notebook is very slow and unresponsive, or your kernel loses its connection. If this happens, try the following steps:\n",
    "1. At the top of your screen, click **Kernel**, then **Interrupt**.\n",
    "2. If that doesn't help, click **Kernel**, then **Restart**. If you do this, you will have to run your code cells from the start of your notebook up until where you paused your work.\n",
    "3. If that doesn't help, restart your server. First, save your work by clicking **File** at the top left of your screen, then **Save and Checkpoint**. Next, click **Control Panel** at the top right. Choose **Stop My Server** to shut it down, then **Start My Server** to start it back up. Then, navigate back to the notebook you were working on. You'll still have to run your code cells again."
   ]
  },
  {
   "cell_type": "markdown",
   "metadata": {},
   "source": [
    "### 2.  Reference `R` to introduce simple `Python` expressions.\n"
   ]
  },
  {
   "cell_type": "markdown",
   "metadata": {},
   "source": [
    "There is a lot that is the same between `R` and `Python`, and I'm going to do my best to build off of what we have already learned.  However, out of the gates, I'm also going to be making explicit both differences coding as well as terminology.  \n",
    "\n",
    "The good news is that comments are the same, `#`, so keep hashagging the heck out of your code (remember the \"the violent psychopath who knows where you live\")!\n",
    "\n",
    "With that in mind, here are our first *expressions*.\n",
    "\n"
   ]
  },
  {
   "cell_type": "code",
   "execution_count": 1,
   "metadata": {},
   "outputs": [
    {
     "name": "stdout",
     "output_type": "stream",
     "text": [
      "2\n",
      "Oh, we're ALREADY coding in Python!\n"
     ]
    },
    {
     "data": {
      "text/plain": [
       "5"
      ]
     },
     "execution_count": 1,
     "metadata": {},
     "output_type": "execute_result"
    }
   ],
   "source": [
    "# Arithmetic is like R for the most basic\n",
    "1 + 1\n",
    "\n",
    "# String and again like R either single- or double-quotes gets the job done\n",
    "\"Oh, we're ALREADY coding in Python!\"\n",
    "\n",
    "# Unlike R, to see output in Python, you have to explicitly call with \"print\"\n",
    "print(1 + 1)\n",
    "\n",
    "print(\"Oh,\" + \" \" + \"we're\" + \" \" + \"ALREADY\" + \" \" + \"coding\" + \" \" + \"in\" + \" \" + \"Python!\") # NB: \"+\" with strings!\n",
    "\n",
    "5 # except for the last line in one of these cells"
   ]
  },
  {
   "cell_type": "markdown",
   "metadata": {},
   "source": [
    "The above provides examples of:\n",
    "\n",
    "-   **Comments:** Text that begins with a &ldquo;#&rdquo; character.\n",
    "-   **Function calls:** Something that takes arguments (in parentheses)\n",
    "    and returns some output.  Here &ldquo;print&rdquo; is a\n",
    "    function.\n",
    "-   **Objects:** 1 and &ldquo;ALREADY&rdquo; are examples of objects.\n",
    "-   **Operators:** &ldquo;+&rdquo; is an operator.  Notice that it functions\n",
    "    differently depending on what it&rsquo;s operating on;\n",
    "    that&rsquo;s because its operation depends on the `type`\n",
    "    of the objects (*operands*) it&rsquo;s operating on.  Specifically, unlike in `R`, you can use some of the arithmetic operators on strings.  \n"
   ]
  },
  {
   "cell_type": "code",
   "execution_count": 2,
   "metadata": {},
   "outputs": [
    {
     "name": "stdout",
     "output_type": "stream",
     "text": [
      "Nice work!\n",
      "Kris Kross\n",
      "wiggity wiggity wiggity wack\n"
     ]
    }
   ],
   "source": [
    "# the + works like c()\n",
    "print(\"Nice\" + \" \" + \"work\" + \"!\") # NB: I have to explicitly put in the space as a separate string\n",
    "\n",
    "# Though you can also just put them next to each other\n",
    "print(\"Kris\" \" \" \"Kross\")\n",
    "\n",
    "# the * plus an integer is like rep( , )\n",
    "print(\"wiggity \" * 3 + \"wack\") \n"
   ]
  },
  {
   "cell_type": "markdown",
   "metadata": {},
   "source": [
    "Watch out for spaces when you do exponents"
   ]
  },
  {
   "cell_type": "code",
   "execution_count": 3,
   "metadata": {},
   "outputs": [
    {
     "data": {
      "text/plain": [
       "10"
      ]
     },
     "execution_count": 3,
     "metadata": {},
     "output_type": "execute_result"
    }
   ],
   "source": [
    "2 * 5"
   ]
  },
  {
   "cell_type": "code",
   "execution_count": 4,
   "metadata": {},
   "outputs": [
    {
     "data": {
      "text/plain": [
       "32"
      ]
     },
     "execution_count": 4,
     "metadata": {},
     "output_type": "execute_result"
    }
   ],
   "source": [
    "2 ** 5"
   ]
  },
  {
   "cell_type": "code",
   "execution_count": 5,
   "metadata": {},
   "outputs": [
    {
     "ename": "SyntaxError",
     "evalue": "invalid syntax (<ipython-input-5-bf3d38745370>, line 1)",
     "output_type": "error",
     "traceback": [
      "\u001b[0;36m  File \u001b[0;32m\"<ipython-input-5-bf3d38745370>\"\u001b[0;36m, line \u001b[0;32m1\u001b[0m\n\u001b[0;31m    2 * * 5\u001b[0m\n\u001b[0m        ^\u001b[0m\n\u001b[0;31mSyntaxError\u001b[0m\u001b[0;31m:\u001b[0m invalid syntax\n"
     ]
    }
   ],
   "source": [
    "2 * * 5"
   ]
  },
  {
   "cell_type": "markdown",
   "metadata": {},
   "source": [
    "#### Common Operators\n",
    "\n",
    "| Expression Type | Operator | Example    | Value     |\n",
    "|-----------------|----------|------------|-----------|\n",
    "| Addition        | `+`      | `2 + 3`    | `5`       |\n",
    "| Subtraction     | `-`      | `2 - 3`    | `-1`      |\n",
    "| Multiplication  | `*`      | `2 * 3`    | `6`       |\n",
    "| Division        | `/`      | `7 / 3`    | `2.66667` |\n",
    "| Remainder       | `%`      | `7 % 3`    | `1`       |\n",
    "| Exponentiation  | `**`     | `2 ** 0.5` | `1.41421` |"
   ]
  },
  {
   "cell_type": "markdown",
   "metadata": {},
   "source": [
    "Note that our only assignment operator in `Python` is =\n",
    "\n",
    "This is say that we cannot use `R`'s fantastic <-"
   ]
  },
  {
   "cell_type": "code",
   "execution_count": null,
   "metadata": {},
   "outputs": [],
   "source": [
    "x = 1\n",
    "x"
   ]
  },
  {
   "cell_type": "code",
   "execution_count": null,
   "metadata": {},
   "outputs": [],
   "source": [
    "y <- 2\n",
    "y"
   ]
  },
  {
   "cell_type": "markdown",
   "metadata": {},
   "source": [
    "As with `R`, names must start with a letter and can contain both letters and numbers but no spaces.  Because `.` is used for calling functions, you want to stick to either camel case or using `_` for spaces."
   ]
  },
  {
   "cell_type": "markdown",
   "metadata": {},
   "source": [
    "### Types"
   ]
  },
  {
   "cell_type": "markdown",
   "metadata": {},
   "source": [
    "You've likely already noticed that the equivalent of `R`'s `class()` function in `Python` is `type()`, returning the type of object you feed it.  In addition, the class *charcater* is the type *str*, *integer* is *int*, *numeric* is *float*, and *logical* is instead *bool* -- and instead of screaming *TRUE* and *FALSE* for *logical* class objects as in `R`, 'Python' needs only the first letter to be capital, so the much quieter *True* and *False* get the job done for type *bool*.  "
   ]
  },
  {
   "cell_type": "code",
   "execution_count": null,
   "metadata": {},
   "outputs": [],
   "source": [
    "print(type(\"Hello\"))\n",
    "print(type(1+1)) \n",
    "print(type(1/3)) \n",
    "print(type(True))"
   ]
  },
  {
   "cell_type": "markdown",
   "metadata": {},
   "source": [
    "For *bool* the full set of common comparison operators are just like in `R`\n",
    "\n",
    "| Comparison         | Operator | True example | False Example |\n",
    "|--------------------|----------|--------------|---------------|\n",
    "| Less than          | <        | 2 < 3        | 2 < 2         |\n",
    "| Greater than       | >        | 3>2          | 3>3           |\n",
    "| Less than or equal | <=       | 2 <= 2       | 3 <= 2        |\n",
    "| Greater or equal   | >=       | 3 >= 3       | 2 >= 3        |\n",
    "| Equal              | ==       | 3 == 3       | 3 == 2        |\n",
    "| Not equal          | !=       | 3 != 2       | 2 != 2        |"
   ]
  },
  {
   "cell_type": "markdown",
   "metadata": {},
   "source": [
    "However, strings can also be compared, and their order is alphabetical. A shorter string is less than a longer string that begins with the shorter string."
   ]
  },
  {
   "cell_type": "code",
   "execution_count": 44,
   "metadata": {},
   "outputs": [
    {
     "data": {
      "text/plain": [
       "True"
      ]
     },
     "execution_count": 44,
     "metadata": {},
     "output_type": "execute_result"
    }
   ],
   "source": [
    "\"Dog\" > \"Catastrophe\" > \"Cat\""
   ]
  },
  {
   "cell_type": "markdown",
   "metadata": {},
   "source": [
    "*Lists* work pretty much the same as in `R`, able to store multiple variable types all together in one object."
   ]
  },
  {
   "cell_type": "code",
   "execution_count": null,
   "metadata": {},
   "outputs": [],
   "source": [
    "# the equivalent of R:list(1,2,3)\n",
    "a = [1,2,3]\n",
    "\n",
    "# the equivalent of list(\"Hello\",\"world\") in R\n",
    "b = [\"Hello\",\"world\"]\n",
    "\n",
    "# combine the two lists\n",
    "c = a + b\n",
    "\n",
    "# print c\n",
    "print(c)\n",
    "\n",
    "# print the \"length\" of c\n",
    "print(len(c))  \n",
    "\n",
    "# print the type of c\n",
    "print(type(c))"
   ]
  },
  {
   "cell_type": "markdown",
   "metadata": {},
   "source": [
    "One small change that may take a lot of work to get used to is that `Python`, like many programming languages, but unlike `R`, starts counting from `0`.  Just to say that more explicitly, `R` starts indexing from `1` while `Python` starts indexing from `0`.  Therefore, to reference what in `R` would be the `n` element in a list, with `Python` you need to call `n-1`.  So specifically:"
   ]
  },
  {
   "cell_type": "code",
   "execution_count": null,
   "metadata": {},
   "outputs": [],
   "source": [
    "# Call the third element in list c\n",
    "print(c[2]) \n",
    "print(b[0] * 4)"
   ]
  },
  {
   "cell_type": "markdown",
   "metadata": {},
   "source": [
    "*dicts* or dictionaries, are another very basic kind of compound object (also called associative arrays or hashes in other languages)."
   ]
  },
  {
   "cell_type": "code",
   "execution_count": null,
   "metadata": {},
   "outputs": [],
   "source": [
    "d = {'name': \"Barney\", 'species': \"Dinosaur\", 'age': 27, 'color': \"Purple\"}\n",
    "\n",
    "print(\"{name} the {species} is {color}.\")\n",
    "print(\"{name} the {species} is {color}.\".format(**d))"
   ]
  },
  {
   "cell_type": "markdown",
   "metadata": {},
   "source": [
    "An additional type that really does not have an equivalent in `R` is *tuple*, we'll discuss those as they become necessary.  For now, know that a *tuple* is an unchangable vector."
   ]
  },
  {
   "cell_type": "markdown",
   "metadata": {},
   "source": [
    "### Modules"
   ]
  },
  {
   "cell_type": "markdown",
   "metadata": {},
   "source": [
    "The list of [Python's built-in functions](https://docs.python.org/3/library/functions.html) is quite long.  However, probably more so than `R`, `Python` relies on you loading the appropriate *modules* (like libraries in `R`) for you to make use of it - though the total number of different *modules* is probably much less (and thus less likely to result in conflicts).  \n",
    "\n",
    "Key libraries for data science include: \n",
    "- [NumPy](https://numpy.org/): mathematical functions, generally used to create arrays\n",
    "- [SciPy](https://www.scipy.org/): scientific functions\n",
    "- [Pandas](https://pandas.pydata.org/): our go-to for data manipulation (think dplyr or datatable)\n",
    "- [MatPlotLib](https://matplotlib.org/): datavisualization\n",
    "- [SciKit-Learn](https://scikit-learn.org/stable/): machine learning"
   ]
  },
  {
   "cell_type": "markdown",
   "metadata": {},
   "source": [
    "### Help"
   ]
  },
  {
   "cell_type": "markdown",
   "metadata": {},
   "source": [
    "Learning how different functions behave is an important part of learning a programming language. A Jupyter notebook can assist in remembering the names and effects of different functions. When editing a code cell, press the *tab* key after typing the beginning of a name to bring up a list of ways to complete that name. For example, press *tab* after `NumPy.` to see all of the functions available in the `NumPy` module. Typing will narrow down the list of options. To learn more about a function, place a `?` after its name. "
   ]
  },
  {
   "cell_type": "code",
   "execution_count": 14,
   "metadata": {},
   "outputs": [
    {
     "data": {
      "text/plain": [
       "5"
      ]
     },
     "execution_count": 14,
     "metadata": {},
     "output_type": "execute_result"
    }
   ],
   "source": [
    "# we R:library() with import followed by the name of the library you'd like\n",
    "import numpy \n",
    "\n",
    "# use tab to see options provided by numpy\n",
    "numpy.abs  # tab here\n",
    "\n",
    "# use ? to learn more about abs\n",
    "numpy.abs?\n",
    "\n",
    "# note the suggestion that we abbreviate numpy as np\n",
    "import numpy as np\n",
    "\n",
    "# take abs() for a spin on your favorite negative number\n",
    "np.abs(-5)\n"
   ]
  },
  {
   "cell_type": "markdown",
   "metadata": {},
   "source": [
    "## 4. DataFrames (or how I learned to take [pandas](https://www.youtube.com/watch?v=wAEzpwvrveg) more seriously)\n",
    "\n"
   ]
  },
  {
   "cell_type": "markdown",
   "metadata": {},
   "source": [
    "*For more thorough intro as well as practice, try out this* [10 minute Pandas tutorial](https://pandas.pydata.org/pandas-docs/version/0.23/10min.html). \n",
    "\n",
    "`Pandas` offers us a new type, the `DataFrame` (which should sound familiar).  These are basically rectangular arrays of data, with names for rows and columns, like a spreadsheet.  In fact, one important thing one can do with DataFrames is to import data *from* spreadsheets.\n",
    "\n"
   ]
  },
  {
   "cell_type": "code",
   "execution_count": 21,
   "metadata": {},
   "outputs": [
    {
     "data": {
      "text/html": [
       "<div>\n",
       "<style scoped>\n",
       "    .dataframe tbody tr th:only-of-type {\n",
       "        vertical-align: middle;\n",
       "    }\n",
       "\n",
       "    .dataframe tbody tr th {\n",
       "        vertical-align: top;\n",
       "    }\n",
       "\n",
       "    .dataframe thead th {\n",
       "        text-align: right;\n",
       "    }\n",
       "</style>\n",
       "<table border=\"1\" class=\"dataframe\">\n",
       "  <thead>\n",
       "    <tr style=\"text-align: right;\">\n",
       "      <th></th>\n",
       "      <th>Food</th>\n",
       "      <th>Quantity</th>\n",
       "      <th>Units</th>\n",
       "      <th>Price</th>\n",
       "      <th>Date</th>\n",
       "      <th>Location</th>\n",
       "      <th>NDB</th>\n",
       "    </tr>\n",
       "  </thead>\n",
       "  <tbody>\n",
       "    <tr>\n",
       "      <th>0</th>\n",
       "      <td>Milk, 2% fat</td>\n",
       "      <td>1.0</td>\n",
       "      <td>gallon</td>\n",
       "      <td>4.99</td>\n",
       "      <td>[2019-09-14 Sat]</td>\n",
       "      <td>Monterey Market, Berkeley</td>\n",
       "      <td>45226447</td>\n",
       "    </tr>\n",
       "    <tr>\n",
       "      <th>1</th>\n",
       "      <td>Eggs, extra large</td>\n",
       "      <td>12.0</td>\n",
       "      <td>xl_egg</td>\n",
       "      <td>3.59</td>\n",
       "      <td>[2019-09-14 Sat]</td>\n",
       "      <td>Monterey Market, Berkeley</td>\n",
       "      <td>45208918</td>\n",
       "    </tr>\n",
       "    <tr>\n",
       "      <th>2</th>\n",
       "      <td>Crumpets</td>\n",
       "      <td>6.0</td>\n",
       "      <td>crumpet</td>\n",
       "      <td>3.19</td>\n",
       "      <td>[2019-09-14 Sat]</td>\n",
       "      <td>Monterey Market, Berkeley</td>\n",
       "      <td>45324369</td>\n",
       "    </tr>\n",
       "    <tr>\n",
       "      <th>3</th>\n",
       "      <td>Bananas</td>\n",
       "      <td>1.0</td>\n",
       "      <td>pound</td>\n",
       "      <td>3.15</td>\n",
       "      <td>[2019-09-14 Sat]</td>\n",
       "      <td>Monterey Market, Berkeley</td>\n",
       "      <td>9040</td>\n",
       "    </tr>\n",
       "    <tr>\n",
       "      <th>4</th>\n",
       "      <td>Carrots, Organic</td>\n",
       "      <td>2.0</td>\n",
       "      <td>pound</td>\n",
       "      <td>2.29</td>\n",
       "      <td>[2019-09-14 Sat]</td>\n",
       "      <td>Monterey Market, Berkeley</td>\n",
       "      <td>11124</td>\n",
       "    </tr>\n",
       "  </tbody>\n",
       "</table>\n",
       "</div>"
      ],
      "text/plain": [
       "                Food  Quantity    Units  Price              Date  \\\n",
       "0       Milk, 2% fat       1.0   gallon   4.99  [2019-09-14 Sat]   \n",
       "1  Eggs, extra large      12.0   xl_egg   3.59  [2019-09-14 Sat]   \n",
       "2           Crumpets       6.0  crumpet   3.19  [2019-09-14 Sat]   \n",
       "3            Bananas       1.0    pound   3.15  [2019-09-14 Sat]   \n",
       "4   Carrots, Organic       2.0    pound   2.29  [2019-09-14 Sat]   \n",
       "\n",
       "                    Location       NDB  \n",
       "0  Monterey Market, Berkeley  45226447  \n",
       "1  Monterey Market, Berkeley  45208918  \n",
       "2  Monterey Market, Berkeley  45324369  \n",
       "3  Monterey Market, Berkeley      9040  \n",
       "4  Monterey Market, Berkeley     11124  "
      ]
     },
     "execution_count": 21,
     "metadata": {},
     "output_type": "execute_result"
    }
   ],
   "source": [
    "# import pandas and name it pd\n",
    "import pandas as pd\n",
    "\n",
    "# We are going to directly load a google spreadsheet by first identifying the url of the sheet\n",
    "SHEET = \"https://docs.google.com/spreadsheets/d/1q1ikP1CXCcLf_Tq6VbhoskOYRvn_nDU5MHStIoVzMgA\"\n",
    "\n",
    "# Then we call pandas (pd) and the . works like :: in R to indicate in which module to find \"read_csv()\"\n",
    "### But you need to be explicit every time\n",
    "# df = read_csv(SHEET + \"/export?format=csv\")\n",
    "df = pd.read_csv(SHEET + \"/export?format=csv\")\n",
    "\n",
    "# This line will show us only the first five rows of data. Try removing .head() to see the full list of items.\n",
    "# Guess what happens if you replace .head() with .tail(). Try it out!\n",
    "df.head()"
   ]
  },
  {
   "cell_type": "code",
   "execution_count": 16,
   "metadata": {},
   "outputs": [
    {
     "data": {
      "text/html": [
       "<div>\n",
       "<style scoped>\n",
       "    .dataframe tbody tr th:only-of-type {\n",
       "        vertical-align: middle;\n",
       "    }\n",
       "\n",
       "    .dataframe tbody tr th {\n",
       "        vertical-align: top;\n",
       "    }\n",
       "\n",
       "    .dataframe thead th {\n",
       "        text-align: right;\n",
       "    }\n",
       "</style>\n",
       "<table border=\"1\" class=\"dataframe\">\n",
       "  <thead>\n",
       "    <tr style=\"text-align: right;\">\n",
       "      <th></th>\n",
       "      <th>Food</th>\n",
       "      <th>Quantity</th>\n",
       "      <th>Units</th>\n",
       "      <th>Price</th>\n",
       "      <th>Date</th>\n",
       "      <th>Location</th>\n",
       "      <th>NDB</th>\n",
       "    </tr>\n",
       "  </thead>\n",
       "  <tbody>\n",
       "    <tr>\n",
       "      <th>13</th>\n",
       "      <td>Parsnip</td>\n",
       "      <td>1.0</td>\n",
       "      <td>pound</td>\n",
       "      <td>1.98</td>\n",
       "      <td>[2019-09-14 Sat]</td>\n",
       "      <td>Monterey Market, Berkeley</td>\n",
       "      <td>11298</td>\n",
       "    </tr>\n",
       "    <tr>\n",
       "      <th>14</th>\n",
       "      <td>Potato, marble mix</td>\n",
       "      <td>1.0</td>\n",
       "      <td>pound</td>\n",
       "      <td>2.59</td>\n",
       "      <td>[2019-09-14 Sat]</td>\n",
       "      <td>Monterey Market, Berkeley</td>\n",
       "      <td>45169597</td>\n",
       "    </tr>\n",
       "    <tr>\n",
       "      <th>15</th>\n",
       "      <td>Rhubarb</td>\n",
       "      <td>1.0</td>\n",
       "      <td>pound</td>\n",
       "      <td>1.84</td>\n",
       "      <td>[2019-09-14 Sat]</td>\n",
       "      <td>Monterey Market, Berkeley</td>\n",
       "      <td>9307</td>\n",
       "    </tr>\n",
       "    <tr>\n",
       "      <th>16</th>\n",
       "      <td>Potato, russet</td>\n",
       "      <td>10.0</td>\n",
       "      <td>pound</td>\n",
       "      <td>2.98</td>\n",
       "      <td>[2019-09-14 Sat]</td>\n",
       "      <td>Monterey Market, Berkeley</td>\n",
       "      <td>45364251</td>\n",
       "    </tr>\n",
       "    <tr>\n",
       "      <th>17</th>\n",
       "      <td>Squash, Zucchini</td>\n",
       "      <td>1.0</td>\n",
       "      <td>pound</td>\n",
       "      <td>1.49</td>\n",
       "      <td>[2019-09-14 Sat]</td>\n",
       "      <td>Monterey Market, Berkeley</td>\n",
       "      <td>11477</td>\n",
       "    </tr>\n",
       "  </tbody>\n",
       "</table>\n",
       "</div>"
      ],
      "text/plain": [
       "                  Food  Quantity  Units  Price              Date  \\\n",
       "13             Parsnip       1.0  pound   1.98  [2019-09-14 Sat]   \n",
       "14  Potato, marble mix       1.0  pound   2.59  [2019-09-14 Sat]   \n",
       "15             Rhubarb       1.0  pound   1.84  [2019-09-14 Sat]   \n",
       "16      Potato, russet      10.0  pound   2.98  [2019-09-14 Sat]   \n",
       "17    Squash, Zucchini       1.0  pound   1.49  [2019-09-14 Sat]   \n",
       "\n",
       "                     Location       NDB  \n",
       "13  Monterey Market, Berkeley     11298  \n",
       "14  Monterey Market, Berkeley  45169597  \n",
       "15  Monterey Market, Berkeley      9307  \n",
       "16  Monterey Market, Berkeley  45364251  \n",
       "17  Monterey Market, Berkeley     11477  "
      ]
     },
     "execution_count": 16,
     "metadata": {},
     "output_type": "execute_result"
    }
   ],
   "source": [
    "# check the tail\n",
    "df.tail()"
   ]
  },
  {
   "cell_type": "code",
   "execution_count": 17,
   "metadata": {},
   "outputs": [
    {
     "data": {
      "text/plain": [
       "18"
      ]
     },
     "execution_count": 17,
     "metadata": {},
     "output_type": "execute_result"
    }
   ],
   "source": [
    "# check the length\n",
    "len(df)"
   ]
  },
  {
   "cell_type": "code",
   "execution_count": 18,
   "metadata": {},
   "outputs": [
    {
     "data": {
      "text/html": [
       "<div>\n",
       "<style scoped>\n",
       "    .dataframe tbody tr th:only-of-type {\n",
       "        vertical-align: middle;\n",
       "    }\n",
       "\n",
       "    .dataframe tbody tr th {\n",
       "        vertical-align: top;\n",
       "    }\n",
       "\n",
       "    .dataframe thead th {\n",
       "        text-align: right;\n",
       "    }\n",
       "</style>\n",
       "<table border=\"1\" class=\"dataframe\">\n",
       "  <thead>\n",
       "    <tr style=\"text-align: right;\">\n",
       "      <th></th>\n",
       "      <th>Food</th>\n",
       "      <th>Quantity</th>\n",
       "      <th>Units</th>\n",
       "      <th>Price</th>\n",
       "      <th>Date</th>\n",
       "      <th>Location</th>\n",
       "      <th>NDB</th>\n",
       "    </tr>\n",
       "  </thead>\n",
       "  <tbody>\n",
       "    <tr>\n",
       "      <th>0</th>\n",
       "      <td>Milk, 2% fat</td>\n",
       "      <td>1.00</td>\n",
       "      <td>gallon</td>\n",
       "      <td>4.99</td>\n",
       "      <td>[2019-09-14 Sat]</td>\n",
       "      <td>Monterey Market, Berkeley</td>\n",
       "      <td>45226447</td>\n",
       "    </tr>\n",
       "    <tr>\n",
       "      <th>1</th>\n",
       "      <td>Eggs, extra large</td>\n",
       "      <td>12.00</td>\n",
       "      <td>xl_egg</td>\n",
       "      <td>3.59</td>\n",
       "      <td>[2019-09-14 Sat]</td>\n",
       "      <td>Monterey Market, Berkeley</td>\n",
       "      <td>45208918</td>\n",
       "    </tr>\n",
       "    <tr>\n",
       "      <th>2</th>\n",
       "      <td>Crumpets</td>\n",
       "      <td>6.00</td>\n",
       "      <td>crumpet</td>\n",
       "      <td>3.19</td>\n",
       "      <td>[2019-09-14 Sat]</td>\n",
       "      <td>Monterey Market, Berkeley</td>\n",
       "      <td>45324369</td>\n",
       "    </tr>\n",
       "    <tr>\n",
       "      <th>3</th>\n",
       "      <td>Bananas</td>\n",
       "      <td>1.00</td>\n",
       "      <td>pound</td>\n",
       "      <td>3.15</td>\n",
       "      <td>[2019-09-14 Sat]</td>\n",
       "      <td>Monterey Market, Berkeley</td>\n",
       "      <td>9040</td>\n",
       "    </tr>\n",
       "    <tr>\n",
       "      <th>4</th>\n",
       "      <td>Carrots, Organic</td>\n",
       "      <td>2.00</td>\n",
       "      <td>pound</td>\n",
       "      <td>2.29</td>\n",
       "      <td>[2019-09-14 Sat]</td>\n",
       "      <td>Monterey Market, Berkeley</td>\n",
       "      <td>11124</td>\n",
       "    </tr>\n",
       "    <tr>\n",
       "      <th>5</th>\n",
       "      <td>Cauliflower</td>\n",
       "      <td>2.51</td>\n",
       "      <td>pound</td>\n",
       "      <td>4.24</td>\n",
       "      <td>[2019-09-14 Sat]</td>\n",
       "      <td>Monterey Market, Berkeley</td>\n",
       "      <td>11135</td>\n",
       "    </tr>\n",
       "    <tr>\n",
       "      <th>6</th>\n",
       "      <td>Endive, Red</td>\n",
       "      <td>1.26</td>\n",
       "      <td>pound</td>\n",
       "      <td>6.27</td>\n",
       "      <td>[2019-09-14 Sat]</td>\n",
       "      <td>Monterey Market, Berkeley</td>\n",
       "      <td>11213</td>\n",
       "    </tr>\n",
       "    <tr>\n",
       "      <th>7</th>\n",
       "      <td>Figs, black mission</td>\n",
       "      <td>1.00</td>\n",
       "      <td>pound</td>\n",
       "      <td>4.98</td>\n",
       "      <td>[2019-09-14 Sat]</td>\n",
       "      <td>Monterey Market, Berkeley</td>\n",
       "      <td>45170327</td>\n",
       "    </tr>\n",
       "    <tr>\n",
       "      <th>8</th>\n",
       "      <td>Leeks, Organic</td>\n",
       "      <td>1.00</td>\n",
       "      <td>pound</td>\n",
       "      <td>1.29</td>\n",
       "      <td>[2019-09-14 Sat]</td>\n",
       "      <td>Monterey Market, Berkeley</td>\n",
       "      <td>11246</td>\n",
       "    </tr>\n",
       "    <tr>\n",
       "      <th>9</th>\n",
       "      <td>Lettuce, Little Gem</td>\n",
       "      <td>1.00</td>\n",
       "      <td>pound</td>\n",
       "      <td>5.98</td>\n",
       "      <td>[2019-09-14 Sat]</td>\n",
       "      <td>Monterey Market, Berkeley</td>\n",
       "      <td>45276886</td>\n",
       "    </tr>\n",
       "    <tr>\n",
       "      <th>10</th>\n",
       "      <td>Mushrooms, King Oyster</td>\n",
       "      <td>1.00</td>\n",
       "      <td>pound</td>\n",
       "      <td>12.00</td>\n",
       "      <td>[2019-09-14 Sat]</td>\n",
       "      <td>Monterey Market, Berkeley</td>\n",
       "      <td>45218868</td>\n",
       "    </tr>\n",
       "    <tr>\n",
       "      <th>11</th>\n",
       "      <td>Onion, yellow</td>\n",
       "      <td>1.00</td>\n",
       "      <td>pound</td>\n",
       "      <td>0.39</td>\n",
       "      <td>[2019-09-14 Sat]</td>\n",
       "      <td>Monterey Market, Berkeley</td>\n",
       "      <td>45339306</td>\n",
       "    </tr>\n",
       "    <tr>\n",
       "      <th>12</th>\n",
       "      <td>Orange juice</td>\n",
       "      <td>0.50</td>\n",
       "      <td>gallon</td>\n",
       "      <td>8.98</td>\n",
       "      <td>[2019-09-14 Sat]</td>\n",
       "      <td>Monterey Market, Berkeley</td>\n",
       "      <td>45213207</td>\n",
       "    </tr>\n",
       "    <tr>\n",
       "      <th>13</th>\n",
       "      <td>Parsnip</td>\n",
       "      <td>1.00</td>\n",
       "      <td>pound</td>\n",
       "      <td>1.98</td>\n",
       "      <td>[2019-09-14 Sat]</td>\n",
       "      <td>Monterey Market, Berkeley</td>\n",
       "      <td>11298</td>\n",
       "    </tr>\n",
       "    <tr>\n",
       "      <th>14</th>\n",
       "      <td>Potato, marble mix</td>\n",
       "      <td>1.00</td>\n",
       "      <td>pound</td>\n",
       "      <td>2.59</td>\n",
       "      <td>[2019-09-14 Sat]</td>\n",
       "      <td>Monterey Market, Berkeley</td>\n",
       "      <td>45169597</td>\n",
       "    </tr>\n",
       "    <tr>\n",
       "      <th>15</th>\n",
       "      <td>Rhubarb</td>\n",
       "      <td>1.00</td>\n",
       "      <td>pound</td>\n",
       "      <td>1.84</td>\n",
       "      <td>[2019-09-14 Sat]</td>\n",
       "      <td>Monterey Market, Berkeley</td>\n",
       "      <td>9307</td>\n",
       "    </tr>\n",
       "    <tr>\n",
       "      <th>16</th>\n",
       "      <td>Potato, russet</td>\n",
       "      <td>10.00</td>\n",
       "      <td>pound</td>\n",
       "      <td>2.98</td>\n",
       "      <td>[2019-09-14 Sat]</td>\n",
       "      <td>Monterey Market, Berkeley</td>\n",
       "      <td>45364251</td>\n",
       "    </tr>\n",
       "    <tr>\n",
       "      <th>17</th>\n",
       "      <td>Squash, Zucchini</td>\n",
       "      <td>1.00</td>\n",
       "      <td>pound</td>\n",
       "      <td>1.49</td>\n",
       "      <td>[2019-09-14 Sat]</td>\n",
       "      <td>Monterey Market, Berkeley</td>\n",
       "      <td>11477</td>\n",
       "    </tr>\n",
       "  </tbody>\n",
       "</table>\n",
       "</div>"
      ],
      "text/plain": [
       "                      Food  Quantity    Units  Price              Date  \\\n",
       "0             Milk, 2% fat      1.00   gallon   4.99  [2019-09-14 Sat]   \n",
       "1        Eggs, extra large     12.00   xl_egg   3.59  [2019-09-14 Sat]   \n",
       "2                 Crumpets      6.00  crumpet   3.19  [2019-09-14 Sat]   \n",
       "3                  Bananas      1.00    pound   3.15  [2019-09-14 Sat]   \n",
       "4         Carrots, Organic      2.00    pound   2.29  [2019-09-14 Sat]   \n",
       "5              Cauliflower      2.51    pound   4.24  [2019-09-14 Sat]   \n",
       "6              Endive, Red      1.26    pound   6.27  [2019-09-14 Sat]   \n",
       "7      Figs, black mission      1.00    pound   4.98  [2019-09-14 Sat]   \n",
       "8           Leeks, Organic      1.00    pound   1.29  [2019-09-14 Sat]   \n",
       "9      Lettuce, Little Gem      1.00    pound   5.98  [2019-09-14 Sat]   \n",
       "10  Mushrooms, King Oyster      1.00    pound  12.00  [2019-09-14 Sat]   \n",
       "11           Onion, yellow      1.00    pound   0.39  [2019-09-14 Sat]   \n",
       "12            Orange juice      0.50   gallon   8.98  [2019-09-14 Sat]   \n",
       "13                 Parsnip      1.00    pound   1.98  [2019-09-14 Sat]   \n",
       "14      Potato, marble mix      1.00    pound   2.59  [2019-09-14 Sat]   \n",
       "15                 Rhubarb      1.00    pound   1.84  [2019-09-14 Sat]   \n",
       "16          Potato, russet     10.00    pound   2.98  [2019-09-14 Sat]   \n",
       "17        Squash, Zucchini      1.00    pound   1.49  [2019-09-14 Sat]   \n",
       "\n",
       "                     Location       NDB  \n",
       "0   Monterey Market, Berkeley  45226447  \n",
       "1   Monterey Market, Berkeley  45208918  \n",
       "2   Monterey Market, Berkeley  45324369  \n",
       "3   Monterey Market, Berkeley      9040  \n",
       "4   Monterey Market, Berkeley     11124  \n",
       "5   Monterey Market, Berkeley     11135  \n",
       "6   Monterey Market, Berkeley     11213  \n",
       "7   Monterey Market, Berkeley  45170327  \n",
       "8   Monterey Market, Berkeley     11246  \n",
       "9   Monterey Market, Berkeley  45276886  \n",
       "10  Monterey Market, Berkeley  45218868  \n",
       "11  Monterey Market, Berkeley  45339306  \n",
       "12  Monterey Market, Berkeley  45213207  \n",
       "13  Monterey Market, Berkeley     11298  \n",
       "14  Monterey Market, Berkeley  45169597  \n",
       "15  Monterey Market, Berkeley      9307  \n",
       "16  Monterey Market, Berkeley  45364251  \n",
       "17  Monterey Market, Berkeley     11477  "
      ]
     },
     "execution_count": 18,
     "metadata": {},
     "output_type": "execute_result"
    }
   ],
   "source": [
    "# call the entire dataset\n",
    "df"
   ]
  },
  {
   "cell_type": "code",
   "execution_count": 19,
   "metadata": {},
   "outputs": [
    {
     "data": {
      "text/plain": [
       "Index(['Food', 'Quantity', 'Units', 'Price', 'Date', 'Location', 'NDB'], dtype='object')"
      ]
     },
     "execution_count": 19,
     "metadata": {},
     "output_type": "execute_result"
    }
   ],
   "source": [
    "# what are the column names (R:names(df))\n",
    "df.columns"
   ]
  },
  {
   "cell_type": "code",
   "execution_count": 46,
   "metadata": {},
   "outputs": [
    {
     "data": {
      "text/plain": [
       "RangeIndex(start=0, stop=18, step=1)"
      ]
     },
     "execution_count": 46,
     "metadata": {},
     "output_type": "execute_result"
    }
   ],
   "source": [
    "# what about the index (rownames)\n",
    "df.index"
   ]
  },
  {
   "cell_type": "code",
   "execution_count": 48,
   "metadata": {},
   "outputs": [
    {
     "data": {
      "text/plain": [
       "array([['Milk, 2% fat', 1.0, 'gallon', 4.99, '[2019-09-14 Sat]',\n",
       "        'Monterey Market, Berkeley', 45226447, 4.99],\n",
       "       ['Eggs, extra large', 12.0, 'xl_egg', 3.59, '[2019-09-14 Sat]',\n",
       "        'Monterey Market, Berkeley', 45208918, 0.29916666666666664],\n",
       "       ['Crumpets', 6.0, 'crumpet', 3.19, '[2019-09-14 Sat]',\n",
       "        'Monterey Market, Berkeley', 45324369, 0.5316666666666666],\n",
       "       ['Bananas', 1.0, 'pound', 3.15, '[2019-09-14 Sat]',\n",
       "        'Monterey Market, Berkeley', 9040, 3.15],\n",
       "       ['Carrots, Organic', 2.0, 'pound', 2.29, '[2019-09-14 Sat]',\n",
       "        'Monterey Market, Berkeley', 11124, 1.145],\n",
       "       ['Cauliflower', 2.51, 'pound', 4.24, '[2019-09-14 Sat]',\n",
       "        'Monterey Market, Berkeley', 11135, 1.6892430278884465],\n",
       "       ['Endive, Red', 1.26, 'pound', 6.27, '[2019-09-14 Sat]',\n",
       "        'Monterey Market, Berkeley', 11213, 4.976190476190475],\n",
       "       ['Figs, black mission', 1.0, 'pound', 4.98, '[2019-09-14 Sat]',\n",
       "        'Monterey Market, Berkeley', 45170327, 4.98],\n",
       "       ['Leeks, Organic', 1.0, 'pound', 1.29, '[2019-09-14 Sat]',\n",
       "        'Monterey Market, Berkeley', 11246, 1.29],\n",
       "       ['Lettuce, Little Gem', 1.0, 'pound', 5.98, '[2019-09-14 Sat]',\n",
       "        'Monterey Market, Berkeley', 45276886, 5.98],\n",
       "       ['Mushrooms, King Oyster', 1.0, 'pound', 12.0, '[2019-09-14 Sat]',\n",
       "        'Monterey Market, Berkeley', 45218868, 12.0],\n",
       "       ['Onion, yellow', 1.0, 'pound', 0.39, '[2019-09-14 Sat]',\n",
       "        'Monterey Market, Berkeley', 45339306, 0.39],\n",
       "       ['Orange juice', 0.5, 'gallon', 8.98, '[2019-09-14 Sat]',\n",
       "        'Monterey Market, Berkeley', 45213207, 17.96],\n",
       "       ['Parsnip', 1.0, 'pound', 1.98, '[2019-09-14 Sat]',\n",
       "        'Monterey Market, Berkeley', 11298, 1.98],\n",
       "       ['Potato, marble mix', 1.0, 'pound', 2.59, '[2019-09-14 Sat]',\n",
       "        'Monterey Market, Berkeley', 45169597, 2.59],\n",
       "       ['Rhubarb', 1.0, 'pound', 1.84, '[2019-09-14 Sat]',\n",
       "        'Monterey Market, Berkeley', 9307, 1.84],\n",
       "       ['Potato, russet', 10.0, 'pound', 2.98, '[2019-09-14 Sat]',\n",
       "        'Monterey Market, Berkeley', 45364251, 0.298],\n",
       "       ['Squash, Zucchini', 1.0, 'pound', 1.49, '[2019-09-14 Sat]',\n",
       "        'Monterey Market, Berkeley', 11477, 1.49]], dtype=object)"
      ]
     },
     "execution_count": 48,
     "metadata": {},
     "output_type": "execute_result"
    }
   ],
   "source": [
    "# and just the data (note that it is presented as the array within the dataframe)\n",
    "df.values"
   ]
  },
  {
   "cell_type": "code",
   "execution_count": 55,
   "metadata": {},
   "outputs": [
    {
     "data": {
      "text/html": [
       "<div>\n",
       "<style scoped>\n",
       "    .dataframe tbody tr th:only-of-type {\n",
       "        vertical-align: middle;\n",
       "    }\n",
       "\n",
       "    .dataframe tbody tr th {\n",
       "        vertical-align: top;\n",
       "    }\n",
       "\n",
       "    .dataframe thead th {\n",
       "        text-align: right;\n",
       "    }\n",
       "</style>\n",
       "<table border=\"1\" class=\"dataframe\">\n",
       "  <thead>\n",
       "    <tr style=\"text-align: right;\">\n",
       "      <th></th>\n",
       "      <th>Quantity</th>\n",
       "      <th>Price</th>\n",
       "      <th>NDB</th>\n",
       "      <th>Unit Price</th>\n",
       "    </tr>\n",
       "  </thead>\n",
       "  <tbody>\n",
       "    <tr>\n",
       "      <th>count</th>\n",
       "      <td>18.000000</td>\n",
       "      <td>18.000000</td>\n",
       "      <td>1.800000e+01</td>\n",
       "      <td>18.000000</td>\n",
       "    </tr>\n",
       "    <tr>\n",
       "      <th>mean</th>\n",
       "      <td>2.515000</td>\n",
       "      <td>4.012222</td>\n",
       "      <td>2.514433e+07</td>\n",
       "      <td>3.754404</td>\n",
       "    </tr>\n",
       "    <tr>\n",
       "      <th>std</th>\n",
       "      <td>3.336815</td>\n",
       "      <td>2.898181</td>\n",
       "      <td>2.313197e+07</td>\n",
       "      <td>4.573990</td>\n",
       "    </tr>\n",
       "    <tr>\n",
       "      <th>min</th>\n",
       "      <td>0.500000</td>\n",
       "      <td>0.390000</td>\n",
       "      <td>9.040000e+03</td>\n",
       "      <td>0.298000</td>\n",
       "    </tr>\n",
       "    <tr>\n",
       "      <th>25%</th>\n",
       "      <td>1.000000</td>\n",
       "      <td>2.057500</td>\n",
       "      <td>1.122125e+04</td>\n",
       "      <td>1.181250</td>\n",
       "    </tr>\n",
       "    <tr>\n",
       "      <th>50%</th>\n",
       "      <td>1.000000</td>\n",
       "      <td>3.170000</td>\n",
       "      <td>4.516996e+07</td>\n",
       "      <td>1.910000</td>\n",
       "    </tr>\n",
       "    <tr>\n",
       "      <th>75%</th>\n",
       "      <td>1.815000</td>\n",
       "      <td>4.987500</td>\n",
       "      <td>4.522455e+07</td>\n",
       "      <td>4.979048</td>\n",
       "    </tr>\n",
       "    <tr>\n",
       "      <th>max</th>\n",
       "      <td>12.000000</td>\n",
       "      <td>12.000000</td>\n",
       "      <td>4.536425e+07</td>\n",
       "      <td>17.960000</td>\n",
       "    </tr>\n",
       "  </tbody>\n",
       "</table>\n",
       "</div>"
      ],
      "text/plain": [
       "        Quantity      Price           NDB  Unit Price\n",
       "count  18.000000  18.000000  1.800000e+01   18.000000\n",
       "mean    2.515000   4.012222  2.514433e+07    3.754404\n",
       "std     3.336815   2.898181  2.313197e+07    4.573990\n",
       "min     0.500000   0.390000  9.040000e+03    0.298000\n",
       "25%     1.000000   2.057500  1.122125e+04    1.181250\n",
       "50%     1.000000   3.170000  4.516996e+07    1.910000\n",
       "75%     1.815000   4.987500  4.522455e+07    4.979048\n",
       "max    12.000000  12.000000  4.536425e+07   17.960000"
      ]
     },
     "execution_count": 55,
     "metadata": {},
     "output_type": "execute_result"
    }
   ],
   "source": [
    "# describe the data\n",
    "df.describe()"
   ]
  },
  {
   "cell_type": "markdown",
   "metadata": {},
   "source": [
    "Now, what else can we do?  Let&rsquo;s figure out how much my total grocery\n",
    "bill was:\n",
    "\n"
   ]
  },
  {
   "cell_type": "code",
   "execution_count": null,
   "metadata": {},
   "outputs": [],
   "source": [
    "# find the sum of the column 'Price' in the dataframe\n",
    "df['Price'].sum()"
   ]
  },
  {
   "cell_type": "markdown",
   "metadata": {},
   "source": [
    "Let&rsquo;s say I&rsquo;m on a budget. Naturally, we&rsquo;d want to identify the item(s)\n",
    "I&rsquo;m spending the most on. We can sort the values to investigate further.\n",
    "\n"
   ]
  },
  {
   "cell_type": "code",
   "execution_count": 22,
   "metadata": {},
   "outputs": [
    {
     "data": {
      "text/html": [
       "<div>\n",
       "<style scoped>\n",
       "    .dataframe tbody tr th:only-of-type {\n",
       "        vertical-align: middle;\n",
       "    }\n",
       "\n",
       "    .dataframe tbody tr th {\n",
       "        vertical-align: top;\n",
       "    }\n",
       "\n",
       "    .dataframe thead th {\n",
       "        text-align: right;\n",
       "    }\n",
       "</style>\n",
       "<table border=\"1\" class=\"dataframe\">\n",
       "  <thead>\n",
       "    <tr style=\"text-align: right;\">\n",
       "      <th></th>\n",
       "      <th>Food</th>\n",
       "      <th>Quantity</th>\n",
       "      <th>Units</th>\n",
       "      <th>Price</th>\n",
       "      <th>Date</th>\n",
       "      <th>Location</th>\n",
       "      <th>NDB</th>\n",
       "    </tr>\n",
       "  </thead>\n",
       "  <tbody>\n",
       "    <tr>\n",
       "      <th>10</th>\n",
       "      <td>Mushrooms, King Oyster</td>\n",
       "      <td>1.00</td>\n",
       "      <td>pound</td>\n",
       "      <td>12.00</td>\n",
       "      <td>[2019-09-14 Sat]</td>\n",
       "      <td>Monterey Market, Berkeley</td>\n",
       "      <td>45218868</td>\n",
       "    </tr>\n",
       "    <tr>\n",
       "      <th>12</th>\n",
       "      <td>Orange juice</td>\n",
       "      <td>0.50</td>\n",
       "      <td>gallon</td>\n",
       "      <td>8.98</td>\n",
       "      <td>[2019-09-14 Sat]</td>\n",
       "      <td>Monterey Market, Berkeley</td>\n",
       "      <td>45213207</td>\n",
       "    </tr>\n",
       "    <tr>\n",
       "      <th>6</th>\n",
       "      <td>Endive, Red</td>\n",
       "      <td>1.26</td>\n",
       "      <td>pound</td>\n",
       "      <td>6.27</td>\n",
       "      <td>[2019-09-14 Sat]</td>\n",
       "      <td>Monterey Market, Berkeley</td>\n",
       "      <td>11213</td>\n",
       "    </tr>\n",
       "    <tr>\n",
       "      <th>9</th>\n",
       "      <td>Lettuce, Little Gem</td>\n",
       "      <td>1.00</td>\n",
       "      <td>pound</td>\n",
       "      <td>5.98</td>\n",
       "      <td>[2019-09-14 Sat]</td>\n",
       "      <td>Monterey Market, Berkeley</td>\n",
       "      <td>45276886</td>\n",
       "    </tr>\n",
       "    <tr>\n",
       "      <th>0</th>\n",
       "      <td>Milk, 2% fat</td>\n",
       "      <td>1.00</td>\n",
       "      <td>gallon</td>\n",
       "      <td>4.99</td>\n",
       "      <td>[2019-09-14 Sat]</td>\n",
       "      <td>Monterey Market, Berkeley</td>\n",
       "      <td>45226447</td>\n",
       "    </tr>\n",
       "  </tbody>\n",
       "</table>\n",
       "</div>"
      ],
      "text/plain": [
       "                      Food  Quantity   Units  Price              Date  \\\n",
       "10  Mushrooms, King Oyster      1.00   pound  12.00  [2019-09-14 Sat]   \n",
       "12            Orange juice      0.50  gallon   8.98  [2019-09-14 Sat]   \n",
       "6              Endive, Red      1.26   pound   6.27  [2019-09-14 Sat]   \n",
       "9      Lettuce, Little Gem      1.00   pound   5.98  [2019-09-14 Sat]   \n",
       "0             Milk, 2% fat      1.00  gallon   4.99  [2019-09-14 Sat]   \n",
       "\n",
       "                     Location       NDB  \n",
       "10  Monterey Market, Berkeley  45218868  \n",
       "12  Monterey Market, Berkeley  45213207  \n",
       "6   Monterey Market, Berkeley     11213  \n",
       "9   Monterey Market, Berkeley  45276886  \n",
       "0   Monterey Market, Berkeley  45226447  "
      ]
     },
     "execution_count": 22,
     "metadata": {},
     "output_type": "execute_result"
    }
   ],
   "source": [
    "# Note that we're indicating we want to sort by the 'Price' column and specify that it should be in descending order.\n",
    "df.sort_values(by='Price', ascending=False).head()"
   ]
  },
  {
   "cell_type": "markdown",
   "metadata": {},
   "source": [
    "Everything here looks straightforward, but let&rsquo;s take a closer look at\n",
    "Red Endive and calculate the price per pound to make comparison easier.\n",
    "\n"
   ]
  },
  {
   "cell_type": "code",
   "execution_count": 30,
   "metadata": {},
   "outputs": [
    {
     "name": "stdout",
     "output_type": "stream",
     "text": [
      "0      4.99\n",
      "1      3.59\n",
      "2      3.19\n",
      "3      3.15\n",
      "4      2.29\n",
      "5      4.24\n",
      "6      6.27\n",
      "7      4.98\n",
      "8      1.29\n",
      "9      5.98\n",
      "10    12.00\n",
      "11     0.39\n",
      "12     8.98\n",
      "13     1.98\n",
      "14     2.59\n",
      "15     1.84\n",
      "16     2.98\n",
      "17     1.49\n",
      "Name: Price, dtype: float64\n",
      "6.27\n",
      "1.26\n"
     ]
    },
    {
     "data": {
      "text/plain": [
       "4.976190476190475"
      ]
     },
     "execution_count": 30,
     "metadata": {},
     "output_type": "execute_result"
    }
   ],
   "source": [
    "# Examine one column, Price\n",
    "print(df['Price'])\n",
    "\n",
    "# Use .iloc (index or integer location) to examine one element in Price\n",
    "print(df.iloc[6]['Price'])\n",
    "\n",
    "# Examine one element in Quantity\n",
    "print(df.iloc[6]['Quantity'])\n",
    "\n",
    "# This line selects the 7th item in the dataframe (note the index number is 6 because we start counting at 0 when we use Python)\n",
    "# and selects the 'Price' value for this particular item. It divides it by 'Quantity' to get the price per pound.\n",
    "df.iloc[6]['Price']/df.iloc[6]['Quantity']"
   ]
  },
  {
   "cell_type": "markdown",
   "metadata": {},
   "source": [
    "As I imagine you know already, unit price is a pretty useful statistic\n",
    "to calculate. Let&rsquo;s do it for all the items on this grocery list. (R:mutate())"
   ]
  },
  {
   "cell_type": "code",
   "execution_count": 31,
   "metadata": {},
   "outputs": [
    {
     "data": {
      "text/html": [
       "<div>\n",
       "<style scoped>\n",
       "    .dataframe tbody tr th:only-of-type {\n",
       "        vertical-align: middle;\n",
       "    }\n",
       "\n",
       "    .dataframe tbody tr th {\n",
       "        vertical-align: top;\n",
       "    }\n",
       "\n",
       "    .dataframe thead th {\n",
       "        text-align: right;\n",
       "    }\n",
       "</style>\n",
       "<table border=\"1\" class=\"dataframe\">\n",
       "  <thead>\n",
       "    <tr style=\"text-align: right;\">\n",
       "      <th></th>\n",
       "      <th>Food</th>\n",
       "      <th>Quantity</th>\n",
       "      <th>Units</th>\n",
       "      <th>Price</th>\n",
       "      <th>Date</th>\n",
       "      <th>Location</th>\n",
       "      <th>NDB</th>\n",
       "      <th>Unit Price</th>\n",
       "    </tr>\n",
       "  </thead>\n",
       "  <tbody>\n",
       "    <tr>\n",
       "      <th>0</th>\n",
       "      <td>Milk, 2% fat</td>\n",
       "      <td>1.0</td>\n",
       "      <td>gallon</td>\n",
       "      <td>4.99</td>\n",
       "      <td>[2019-09-14 Sat]</td>\n",
       "      <td>Monterey Market, Berkeley</td>\n",
       "      <td>45226447</td>\n",
       "      <td>4.990000</td>\n",
       "    </tr>\n",
       "    <tr>\n",
       "      <th>1</th>\n",
       "      <td>Eggs, extra large</td>\n",
       "      <td>12.0</td>\n",
       "      <td>xl_egg</td>\n",
       "      <td>3.59</td>\n",
       "      <td>[2019-09-14 Sat]</td>\n",
       "      <td>Monterey Market, Berkeley</td>\n",
       "      <td>45208918</td>\n",
       "      <td>0.299167</td>\n",
       "    </tr>\n",
       "    <tr>\n",
       "      <th>2</th>\n",
       "      <td>Crumpets</td>\n",
       "      <td>6.0</td>\n",
       "      <td>crumpet</td>\n",
       "      <td>3.19</td>\n",
       "      <td>[2019-09-14 Sat]</td>\n",
       "      <td>Monterey Market, Berkeley</td>\n",
       "      <td>45324369</td>\n",
       "      <td>0.531667</td>\n",
       "    </tr>\n",
       "    <tr>\n",
       "      <th>3</th>\n",
       "      <td>Bananas</td>\n",
       "      <td>1.0</td>\n",
       "      <td>pound</td>\n",
       "      <td>3.15</td>\n",
       "      <td>[2019-09-14 Sat]</td>\n",
       "      <td>Monterey Market, Berkeley</td>\n",
       "      <td>9040</td>\n",
       "      <td>3.150000</td>\n",
       "    </tr>\n",
       "    <tr>\n",
       "      <th>4</th>\n",
       "      <td>Carrots, Organic</td>\n",
       "      <td>2.0</td>\n",
       "      <td>pound</td>\n",
       "      <td>2.29</td>\n",
       "      <td>[2019-09-14 Sat]</td>\n",
       "      <td>Monterey Market, Berkeley</td>\n",
       "      <td>11124</td>\n",
       "      <td>1.145000</td>\n",
       "    </tr>\n",
       "  </tbody>\n",
       "</table>\n",
       "</div>"
      ],
      "text/plain": [
       "                Food  Quantity    Units  Price              Date  \\\n",
       "0       Milk, 2% fat       1.0   gallon   4.99  [2019-09-14 Sat]   \n",
       "1  Eggs, extra large      12.0   xl_egg   3.59  [2019-09-14 Sat]   \n",
       "2           Crumpets       6.0  crumpet   3.19  [2019-09-14 Sat]   \n",
       "3            Bananas       1.0    pound   3.15  [2019-09-14 Sat]   \n",
       "4   Carrots, Organic       2.0    pound   2.29  [2019-09-14 Sat]   \n",
       "\n",
       "                    Location       NDB  Unit Price  \n",
       "0  Monterey Market, Berkeley  45226447    4.990000  \n",
       "1  Monterey Market, Berkeley  45208918    0.299167  \n",
       "2  Monterey Market, Berkeley  45324369    0.531667  \n",
       "3  Monterey Market, Berkeley      9040    3.150000  \n",
       "4  Monterey Market, Berkeley     11124    1.145000  "
      ]
     },
     "execution_count": 31,
     "metadata": {},
     "output_type": "execute_result"
    }
   ],
   "source": [
    "# This line creates a new column in our dataframe named 'Unit Price' and populates each row with the respective price value \n",
    "# divided by the quantity value.\n",
    "df['Unit Price'] = df['Price']/df['Quantity']\n",
    "df.head()"
   ]
  },
  {
   "cell_type": "markdown",
   "metadata": {},
   "source": [
    "Almost there! Let&rsquo;s pare down our dataframe to look more friendly to the eye. We\n",
    "don&rsquo;t want to see the following columns: Date, Location, NDB. Also, we only want to see\n",
    "the first five items of the dataframe. \n",
    "\n",
    "We&rsquo;ll use .loc which allows us to use column labels.\n",
    "\n"
   ]
  },
  {
   "cell_type": "code",
   "execution_count": 38,
   "metadata": {},
   "outputs": [
    {
     "data": {
      "text/html": [
       "<div>\n",
       "<style scoped>\n",
       "    .dataframe tbody tr th:only-of-type {\n",
       "        vertical-align: middle;\n",
       "    }\n",
       "\n",
       "    .dataframe tbody tr th {\n",
       "        vertical-align: top;\n",
       "    }\n",
       "\n",
       "    .dataframe thead th {\n",
       "        text-align: right;\n",
       "    }\n",
       "</style>\n",
       "<table border=\"1\" class=\"dataframe\">\n",
       "  <thead>\n",
       "    <tr style=\"text-align: right;\">\n",
       "      <th></th>\n",
       "      <th>Food</th>\n",
       "      <th>Quantity</th>\n",
       "      <th>Units</th>\n",
       "      <th>Price</th>\n",
       "      <th>Unit Price</th>\n",
       "    </tr>\n",
       "  </thead>\n",
       "  <tbody>\n",
       "    <tr>\n",
       "      <th>0</th>\n",
       "      <td>Milk, 2% fat</td>\n",
       "      <td>1.00</td>\n",
       "      <td>gallon</td>\n",
       "      <td>4.99</td>\n",
       "      <td>4.990000</td>\n",
       "    </tr>\n",
       "    <tr>\n",
       "      <th>1</th>\n",
       "      <td>Eggs, extra large</td>\n",
       "      <td>12.00</td>\n",
       "      <td>xl_egg</td>\n",
       "      <td>3.59</td>\n",
       "      <td>0.299167</td>\n",
       "    </tr>\n",
       "    <tr>\n",
       "      <th>2</th>\n",
       "      <td>Crumpets</td>\n",
       "      <td>6.00</td>\n",
       "      <td>crumpet</td>\n",
       "      <td>3.19</td>\n",
       "      <td>0.531667</td>\n",
       "    </tr>\n",
       "    <tr>\n",
       "      <th>3</th>\n",
       "      <td>Bananas</td>\n",
       "      <td>1.00</td>\n",
       "      <td>pound</td>\n",
       "      <td>3.15</td>\n",
       "      <td>3.150000</td>\n",
       "    </tr>\n",
       "    <tr>\n",
       "      <th>4</th>\n",
       "      <td>Carrots, Organic</td>\n",
       "      <td>2.00</td>\n",
       "      <td>pound</td>\n",
       "      <td>2.29</td>\n",
       "      <td>1.145000</td>\n",
       "    </tr>\n",
       "    <tr>\n",
       "      <th>5</th>\n",
       "      <td>Cauliflower</td>\n",
       "      <td>2.51</td>\n",
       "      <td>pound</td>\n",
       "      <td>4.24</td>\n",
       "      <td>1.689243</td>\n",
       "    </tr>\n",
       "  </tbody>\n",
       "</table>\n",
       "</div>"
      ],
      "text/plain": [
       "                Food  Quantity    Units  Price  Unit Price\n",
       "0       Milk, 2% fat      1.00   gallon   4.99    4.990000\n",
       "1  Eggs, extra large     12.00   xl_egg   3.59    0.299167\n",
       "2           Crumpets      6.00  crumpet   3.19    0.531667\n",
       "3            Bananas      1.00    pound   3.15    3.150000\n",
       "4   Carrots, Organic      2.00    pound   2.29    1.145000\n",
       "5        Cauliflower      2.51    pound   4.24    1.689243"
      ]
     },
     "execution_count": 38,
     "metadata": {},
     "output_type": "execute_result"
    }
   ],
   "source": [
    "# Note that in both the .iloc and .loc syntax, the first set of parameters refer to rows and the second set refer to columns.\n",
    "df.loc[0:5, ['Food', 'Quantity', 'Units', 'Price', 'Unit Price']]"
   ]
  },
  {
   "cell_type": "markdown",
   "metadata": {},
   "source": [
    "We can subset by conditions (R:filter())\n",
    "\n"
   ]
  },
  {
   "cell_type": "code",
   "execution_count": 43,
   "metadata": {
    "scrolled": true
   },
   "outputs": [
    {
     "data": {
      "text/html": [
       "<div>\n",
       "<style scoped>\n",
       "    .dataframe tbody tr th:only-of-type {\n",
       "        vertical-align: middle;\n",
       "    }\n",
       "\n",
       "    .dataframe tbody tr th {\n",
       "        vertical-align: top;\n",
       "    }\n",
       "\n",
       "    .dataframe thead th {\n",
       "        text-align: right;\n",
       "    }\n",
       "</style>\n",
       "<table border=\"1\" class=\"dataframe\">\n",
       "  <thead>\n",
       "    <tr style=\"text-align: right;\">\n",
       "      <th></th>\n",
       "      <th>Food</th>\n",
       "      <th>Quantity</th>\n",
       "      <th>Units</th>\n",
       "      <th>Price</th>\n",
       "      <th>Date</th>\n",
       "      <th>Location</th>\n",
       "      <th>NDB</th>\n",
       "      <th>Unit Price</th>\n",
       "    </tr>\n",
       "  </thead>\n",
       "  <tbody>\n",
       "    <tr>\n",
       "      <th>1</th>\n",
       "      <td>Eggs, extra large</td>\n",
       "      <td>12.0</td>\n",
       "      <td>xl_egg</td>\n",
       "      <td>3.59</td>\n",
       "      <td>[2019-09-14 Sat]</td>\n",
       "      <td>Monterey Market, Berkeley</td>\n",
       "      <td>45208918</td>\n",
       "      <td>0.299167</td>\n",
       "    </tr>\n",
       "    <tr>\n",
       "      <th>2</th>\n",
       "      <td>Crumpets</td>\n",
       "      <td>6.0</td>\n",
       "      <td>crumpet</td>\n",
       "      <td>3.19</td>\n",
       "      <td>[2019-09-14 Sat]</td>\n",
       "      <td>Monterey Market, Berkeley</td>\n",
       "      <td>45324369</td>\n",
       "      <td>0.531667</td>\n",
       "    </tr>\n",
       "    <tr>\n",
       "      <th>11</th>\n",
       "      <td>Onion, yellow</td>\n",
       "      <td>1.0</td>\n",
       "      <td>pound</td>\n",
       "      <td>0.39</td>\n",
       "      <td>[2019-09-14 Sat]</td>\n",
       "      <td>Monterey Market, Berkeley</td>\n",
       "      <td>45339306</td>\n",
       "      <td>0.390000</td>\n",
       "    </tr>\n",
       "    <tr>\n",
       "      <th>16</th>\n",
       "      <td>Potato, russet</td>\n",
       "      <td>10.0</td>\n",
       "      <td>pound</td>\n",
       "      <td>2.98</td>\n",
       "      <td>[2019-09-14 Sat]</td>\n",
       "      <td>Monterey Market, Berkeley</td>\n",
       "      <td>45364251</td>\n",
       "      <td>0.298000</td>\n",
       "    </tr>\n",
       "  </tbody>\n",
       "</table>\n",
       "</div>"
      ],
      "text/plain": [
       "                 Food  Quantity    Units  Price              Date  \\\n",
       "1   Eggs, extra large      12.0   xl_egg   3.59  [2019-09-14 Sat]   \n",
       "2            Crumpets       6.0  crumpet   3.19  [2019-09-14 Sat]   \n",
       "11      Onion, yellow       1.0    pound   0.39  [2019-09-14 Sat]   \n",
       "16     Potato, russet      10.0    pound   2.98  [2019-09-14 Sat]   \n",
       "\n",
       "                     Location       NDB  Unit Price  \n",
       "1   Monterey Market, Berkeley  45208918    0.299167  \n",
       "2   Monterey Market, Berkeley  45324369    0.531667  \n",
       "11  Monterey Market, Berkeley  45339306    0.390000  \n",
       "16  Monterey Market, Berkeley  45364251    0.298000  "
      ]
     },
     "execution_count": 43,
     "metadata": {},
     "output_type": "execute_result"
    }
   ],
   "source": [
    "# This line will return all rows in the dataframe where the Unit Price is < 1. Using what we've covered prior,\n",
    "df[df['Unit Price'] < 1]"
   ]
  },
  {
   "cell_type": "markdown",
   "metadata": {},
   "source": [
    "### Final Word"
   ]
  },
  {
   "cell_type": "markdown",
   "metadata": {},
   "source": [
    "Take some time this week to review [10 minute Pandas tutorial](https://pandas.pydata.org/pandas-docs/version/0.23/10min.html). \n"
   ]
  }
 ],
 "metadata": {
  "kernelspec": {
   "display_name": "Python 3",
   "language": "python",
   "name": "python3"
  },
  "language_info": {
   "codemirror_mode": {
    "name": "ipython",
    "version": 3
   },
   "file_extension": ".py",
   "mimetype": "text/x-python",
   "name": "python",
   "nbconvert_exporter": "python",
   "pygments_lexer": "ipython3",
   "version": "3.6.9"
  },
  "org": null
 },
 "nbformat": 4,
 "nbformat_minor": 1
}
